{
  "cells": [
    {
      "cell_type": "markdown",
      "source": "# Data\n## Price data",
      "metadata": {
        "tags": [],
        "cell_id": "00000-e1ff3009-1f4d-4703-8324-1fd389bb6b61",
        "deepnote_cell_type": "markdown"
      }
    },
    {
      "cell_type": "code",
      "metadata": {
        "tags": [],
        "cell_id": "00000-fbaa908e-5429-4002-aeb4-8e671e65f52e",
        "deepnote_to_be_reexecuted": false,
        "source_hash": "804d8924",
        "execution_millis": 53,
        "execution_start": 1616084808955,
        "deepnote_cell_type": "code"
      },
      "source": "### DATA SOURCE ###\nimport pandas as pd\nimport pyEX\nfrom datetime import datetime\n\np = pyEX.Client('Tpk_cf91f836550644569fc3bcbd850074ca',version = \"sandbox\")\nticker = 'AMD'\ntimeframe = '1m'\ndf = p.chartDF(ticker, timeframe)\ndf.head()",
      "execution_count": 11,
      "outputs": [
        {
          "output_type": "execute_result",
          "execution_count": 11,
          "data": {
            "application/vnd.deepnote.dataframe.v2+json": {
              "row_count": 5,
              "column_count": 25,
              "columns": [
                {
                  "name": "close",
                  "dtype": "float64",
                  "stats": {
                    "unique_count": 5,
                    "nan_count": 0,
                    "min": 81.42,
                    "max": 85.61,
                    "histogram": [
                      {
                        "bin_start": 81.42,
                        "bin_end": 81.839,
                        "count": 2
                      },
                      {
                        "bin_start": 81.839,
                        "bin_end": 82.258,
                        "count": 0
                      },
                      {
                        "bin_start": 82.258,
                        "bin_end": 82.677,
                        "count": 0
                      },
                      {
                        "bin_start": 82.677,
                        "bin_end": 83.096,
                        "count": 1
                      },
                      {
                        "bin_start": 83.096,
                        "bin_end": 83.515,
                        "count": 0
                      },
                      {
                        "bin_start": 83.515,
                        "bin_end": 83.934,
                        "count": 0
                      },
                      {
                        "bin_start": 83.934,
                        "bin_end": 84.353,
                        "count": 0
                      },
                      {
                        "bin_start": 84.353,
                        "bin_end": 84.772,
                        "count": 0
                      },
                      {
                        "bin_start": 84.772,
                        "bin_end": 85.191,
                        "count": 1
                      },
                      {
                        "bin_start": 85.191,
                        "bin_end": 85.61,
                        "count": 1
                      }
                    ]
                  }
                },
                {
                  "name": "high",
                  "dtype": "float64",
                  "stats": {
                    "unique_count": 5,
                    "nan_count": 0,
                    "min": 83.52,
                    "max": 88.89,
                    "histogram": [
                      {
                        "bin_start": 83.52,
                        "bin_end": 84.057,
                        "count": 2
                      },
                      {
                        "bin_start": 84.057,
                        "bin_end": 84.594,
                        "count": 0
                      },
                      {
                        "bin_start": 84.594,
                        "bin_end": 85.131,
                        "count": 1
                      },
                      {
                        "bin_start": 85.131,
                        "bin_end": 85.66799999999999,
                        "count": 0
                      },
                      {
                        "bin_start": 85.66799999999999,
                        "bin_end": 86.205,
                        "count": 0
                      },
                      {
                        "bin_start": 86.205,
                        "bin_end": 86.742,
                        "count": 0
                      },
                      {
                        "bin_start": 86.742,
                        "bin_end": 87.279,
                        "count": 0
                      },
                      {
                        "bin_start": 87.279,
                        "bin_end": 87.816,
                        "count": 1
                      },
                      {
                        "bin_start": 87.816,
                        "bin_end": 88.353,
                        "count": 0
                      },
                      {
                        "bin_start": 88.353,
                        "bin_end": 88.89,
                        "count": 1
                      }
                    ]
                  }
                },
                {
                  "name": "low",
                  "dtype": "float64",
                  "stats": {
                    "unique_count": 5,
                    "nan_count": 0,
                    "min": 81.14,
                    "max": 83.85,
                    "histogram": [
                      {
                        "bin_start": 81.14,
                        "bin_end": 81.411,
                        "count": 1
                      },
                      {
                        "bin_start": 81.411,
                        "bin_end": 81.682,
                        "count": 0
                      },
                      {
                        "bin_start": 81.682,
                        "bin_end": 81.953,
                        "count": 0
                      },
                      {
                        "bin_start": 81.953,
                        "bin_end": 82.224,
                        "count": 0
                      },
                      {
                        "bin_start": 82.224,
                        "bin_end": 82.495,
                        "count": 0
                      },
                      {
                        "bin_start": 82.495,
                        "bin_end": 82.76599999999999,
                        "count": 0
                      },
                      {
                        "bin_start": 82.76599999999999,
                        "bin_end": 83.03699999999999,
                        "count": 2
                      },
                      {
                        "bin_start": 83.03699999999999,
                        "bin_end": 83.30799999999999,
                        "count": 1
                      },
                      {
                        "bin_start": 83.30799999999999,
                        "bin_end": 83.579,
                        "count": 0
                      },
                      {
                        "bin_start": 83.579,
                        "bin_end": 83.85,
                        "count": 1
                      }
                    ]
                  }
                },
                {
                  "name": "open",
                  "dtype": "float64",
                  "stats": {
                    "unique_count": 5,
                    "nan_count": 0,
                    "min": 82.7,
                    "max": 86.05,
                    "histogram": [
                      {
                        "bin_start": 82.7,
                        "bin_end": 83.035,
                        "count": 1
                      },
                      {
                        "bin_start": 83.035,
                        "bin_end": 83.37,
                        "count": 0
                      },
                      {
                        "bin_start": 83.37,
                        "bin_end": 83.705,
                        "count": 1
                      },
                      {
                        "bin_start": 83.705,
                        "bin_end": 84.04,
                        "count": 1
                      },
                      {
                        "bin_start": 84.04,
                        "bin_end": 84.375,
                        "count": 0
                      },
                      {
                        "bin_start": 84.375,
                        "bin_end": 84.71,
                        "count": 0
                      },
                      {
                        "bin_start": 84.71,
                        "bin_end": 85.045,
                        "count": 1
                      },
                      {
                        "bin_start": 85.045,
                        "bin_end": 85.38,
                        "count": 0
                      },
                      {
                        "bin_start": 85.38,
                        "bin_end": 85.715,
                        "count": 0
                      },
                      {
                        "bin_start": 85.715,
                        "bin_end": 86.05,
                        "count": 1
                      }
                    ]
                  }
                },
                {
                  "name": "symbol",
                  "dtype": "object",
                  "stats": {
                    "unique_count": 1,
                    "nan_count": 0,
                    "categories": [
                      {
                        "name": "AMD",
                        "count": 5
                      }
                    ]
                  }
                },
                {
                  "name": "volume",
                  "dtype": "int64",
                  "stats": {
                    "unique_count": 5,
                    "nan_count": 0,
                    "min": 33462816,
                    "max": 45388391,
                    "histogram": [
                      {
                        "bin_start": 33462816,
                        "bin_end": 34655373.5,
                        "count": 1
                      },
                      {
                        "bin_start": 34655373.5,
                        "bin_end": 35847931,
                        "count": 0
                      },
                      {
                        "bin_start": 35847931,
                        "bin_end": 37040488.5,
                        "count": 0
                      },
                      {
                        "bin_start": 37040488.5,
                        "bin_end": 38233046,
                        "count": 0
                      },
                      {
                        "bin_start": 38233046,
                        "bin_end": 39425603.5,
                        "count": 0
                      },
                      {
                        "bin_start": 39425603.5,
                        "bin_end": 40618161,
                        "count": 1
                      },
                      {
                        "bin_start": 40618161,
                        "bin_end": 41810718.5,
                        "count": 0
                      },
                      {
                        "bin_start": 41810718.5,
                        "bin_end": 43003276,
                        "count": 0
                      },
                      {
                        "bin_start": 43003276,
                        "bin_end": 44195833.5,
                        "count": 1
                      },
                      {
                        "bin_start": 44195833.5,
                        "bin_end": 45388391,
                        "count": 2
                      }
                    ]
                  }
                },
                {
                  "name": "id",
                  "dtype": "object",
                  "stats": {
                    "unique_count": 5,
                    "nan_count": 0,
                    "categories": [
                      {
                        "name": "AETHICCSPORRSIIL_",
                        "count": 1
                      },
                      {
                        "name": "TSRCCLRS_IPAIEHOI",
                        "count": 1
                      },
                      {
                        "name": "3 others",
                        "count": 3
                      }
                    ]
                  }
                },
                {
                  "name": "key",
                  "dtype": "object",
                  "stats": {
                    "unique_count": 4,
                    "nan_count": 0,
                    "categories": [
                      {
                        "name": "MDA",
                        "count": 2
                      },
                      {
                        "name": "DAM",
                        "count": 1
                      },
                      {
                        "name": "2 others",
                        "count": 2
                      }
                    ]
                  }
                },
                {
                  "name": "subkey",
                  "dtype": "object",
                  "stats": {
                    "unique_count": 1,
                    "nan_count": 0,
                    "categories": [
                      {
                        "name": "0",
                        "count": 5
                      }
                    ]
                  }
                },
                {
                  "name": "updated",
                  "dtype": "datetime64[ns]",
                  "stats": {
                    "unique_count": 5,
                    "nan_count": 0,
                    "min": "2022-07-28T00:27:11.092000",
                    "max": "2023-09-19T12:13:36.322000",
                    "histogram": [
                      {
                        "bin_start": 1658968031092000000,
                        "bin_end": 1662583789615000000,
                        "count": 2
                      },
                      {
                        "bin_start": 1662583789615000000,
                        "bin_end": 1666199548138000000,
                        "count": 0
                      },
                      {
                        "bin_start": 1666199548138000000,
                        "bin_end": 1669815306661000000,
                        "count": 0
                      },
                      {
                        "bin_start": 1669815306661000000,
                        "bin_end": 1673431065184000000,
                        "count": 0
                      },
                      {
                        "bin_start": 1673431065184000000,
                        "bin_end": 1677046823706999800,
                        "count": 0
                      },
                      {
                        "bin_start": 1677046823706999800,
                        "bin_end": 1680662582229999900,
                        "count": 0
                      },
                      {
                        "bin_start": 1680662582229999900,
                        "bin_end": 1684278340753000000,
                        "count": 1
                      },
                      {
                        "bin_start": 1684278340753000000,
                        "bin_end": 1687894099276000000,
                        "count": 0
                      },
                      {
                        "bin_start": 1687894099276000000,
                        "bin_end": 1691509857798999800,
                        "count": 1
                      },
                      {
                        "bin_start": 1691509857798999800,
                        "bin_end": 1695125616322000000,
                        "count": 1
                      }
                    ]
                  }
                },
                {
                  "name": "changeOverTime",
                  "dtype": "float64",
                  "stats": {
                    "unique_count": 5,
                    "nan_count": 0,
                    "min": -0.019983122481866178,
                    "max": 0.0014978129252274993,
                    "histogram": [
                      {
                        "bin_start": -0.019983122481866178,
                        "bin_end": -0.01783502894115681,
                        "count": 1
                      },
                      {
                        "bin_start": -0.01783502894115681,
                        "bin_end": -0.01568693540044744,
                        "count": 1
                      },
                      {
                        "bin_start": -0.01568693540044744,
                        "bin_end": -0.013538841859738075,
                        "count": 0
                      },
                      {
                        "bin_start": -0.013538841859738075,
                        "bin_end": -0.011390748319028707,
                        "count": 0
                      },
                      {
                        "bin_start": -0.011390748319028707,
                        "bin_end": -0.009242654778319339,
                        "count": 0
                      },
                      {
                        "bin_start": -0.009242654778319339,
                        "bin_end": -0.007094561237609973,
                        "count": 0
                      },
                      {
                        "bin_start": -0.007094561237609973,
                        "bin_end": -0.0049464676969006045,
                        "count": 0
                      },
                      {
                        "bin_start": -0.0049464676969006045,
                        "bin_end": -0.0027983741561912363,
                        "count": 0
                      },
                      {
                        "bin_start": -0.0027983741561912363,
                        "bin_end": -0.0006502806154818699,
                        "count": 1
                      },
                      {
                        "bin_start": -0.0006502806154818699,
                        "bin_end": 0.0014978129252274993,
                        "count": 2
                      }
                    ]
                  }
                },
                {
                  "name": "marketChangeOverTime",
                  "dtype": "float64",
                  "stats": {
                    "unique_count": 5,
                    "nan_count": 0,
                    "min": -0.019721891009096767,
                    "max": 0.0014779069889544522,
                    "histogram": [
                      {
                        "bin_start": -0.019721891009096767,
                        "bin_end": -0.017601911209291644,
                        "count": 1
                      },
                      {
                        "bin_start": -0.017601911209291644,
                        "bin_end": -0.015481931409486524,
                        "count": 1
                      },
                      {
                        "bin_start": -0.015481931409486524,
                        "bin_end": -0.013361951609681403,
                        "count": 0
                      },
                      {
                        "bin_start": -0.013361951609681403,
                        "bin_end": -0.01124197180987628,
                        "count": 0
                      },
                      {
                        "bin_start": -0.01124197180987628,
                        "bin_end": -0.009121992010071158,
                        "count": 0
                      },
                      {
                        "bin_start": -0.009121992010071158,
                        "bin_end": -0.007002012210266037,
                        "count": 0
                      },
                      {
                        "bin_start": -0.007002012210266037,
                        "bin_end": -0.004882032410460917,
                        "count": 0
                      },
                      {
                        "bin_start": -0.004882032410460917,
                        "bin_end": -0.0027620526106557942,
                        "count": 0
                      },
                      {
                        "bin_start": -0.0027620526106557942,
                        "bin_end": -0.0006420728108506718,
                        "count": 1
                      },
                      {
                        "bin_start": -0.0006420728108506718,
                        "bin_end": 0.0014779069889544522,
                        "count": 2
                      }
                    ]
                  }
                },
                {
                  "name": "uOpen",
                  "dtype": "float64",
                  "stats": {
                    "unique_count": 5,
                    "nan_count": 0,
                    "min": 82.4,
                    "max": 85.65,
                    "histogram": [
                      {
                        "bin_start": 82.4,
                        "bin_end": 82.72500000000001,
                        "count": 3
                      },
                      {
                        "bin_start": 82.72500000000001,
                        "bin_end": 83.05000000000001,
                        "count": 0
                      },
                      {
                        "bin_start": 83.05000000000001,
                        "bin_end": 83.375,
                        "count": 0
                      },
                      {
                        "bin_start": 83.375,
                        "bin_end": 83.7,
                        "count": 0
                      },
                      {
                        "bin_start": 83.7,
                        "bin_end": 84.025,
                        "count": 0
                      },
                      {
                        "bin_start": 84.025,
                        "bin_end": 84.35000000000001,
                        "count": 0
                      },
                      {
                        "bin_start": 84.35000000000001,
                        "bin_end": 84.67500000000001,
                        "count": 1
                      },
                      {
                        "bin_start": 84.67500000000001,
                        "bin_end": 85,
                        "count": 0
                      },
                      {
                        "bin_start": 85,
                        "bin_end": 85.325,
                        "count": 0
                      },
                      {
                        "bin_start": 85.325,
                        "bin_end": 85.65,
                        "count": 1
                      }
                    ]
                  }
                },
                {
                  "name": "uClose",
                  "dtype": "float64",
                  "stats": {
                    "unique_count": 5,
                    "nan_count": 0,
                    "min": 83.96,
                    "max": 85.92,
                    "histogram": [
                      {
                        "bin_start": 83.96,
                        "bin_end": 84.15599999999999,
                        "count": 1
                      },
                      {
                        "bin_start": 84.15599999999999,
                        "bin_end": 84.35199999999999,
                        "count": 0
                      },
                      {
                        "bin_start": 84.35199999999999,
                        "bin_end": 84.548,
                        "count": 1
                      },
                      {
                        "bin_start": 84.548,
                        "bin_end": 84.744,
                        "count": 1
                      },
                      {
                        "bin_start": 84.744,
                        "bin_end": 84.94,
                        "count": 1
                      },
                      {
                        "bin_start": 84.94,
                        "bin_end": 85.136,
                        "count": 0
                      },
                      {
                        "bin_start": 85.136,
                        "bin_end": 85.332,
                        "count": 0
                      },
                      {
                        "bin_start": 85.332,
                        "bin_end": 85.528,
                        "count": 0
                      },
                      {
                        "bin_start": 85.528,
                        "bin_end": 85.724,
                        "count": 0
                      },
                      {
                        "bin_start": 85.724,
                        "bin_end": 85.92,
                        "count": 1
                      }
                    ]
                  }
                },
                {
                  "name": "uHigh",
                  "dtype": "float64",
                  "stats": {
                    "unique_count": 5,
                    "nan_count": 0,
                    "min": 83.37,
                    "max": 87.68,
                    "histogram": [
                      {
                        "bin_start": 83.37,
                        "bin_end": 83.801,
                        "count": 1
                      },
                      {
                        "bin_start": 83.801,
                        "bin_end": 84.232,
                        "count": 1
                      },
                      {
                        "bin_start": 84.232,
                        "bin_end": 84.66300000000001,
                        "count": 1
                      },
                      {
                        "bin_start": 84.66300000000001,
                        "bin_end": 85.09400000000001,
                        "count": 0
                      },
                      {
                        "bin_start": 85.09400000000001,
                        "bin_end": 85.525,
                        "count": 0
                      },
                      {
                        "bin_start": 85.525,
                        "bin_end": 85.956,
                        "count": 0
                      },
                      {
                        "bin_start": 85.956,
                        "bin_end": 86.387,
                        "count": 0
                      },
                      {
                        "bin_start": 86.387,
                        "bin_end": 86.81800000000001,
                        "count": 0
                      },
                      {
                        "bin_start": 86.81800000000001,
                        "bin_end": 87.24900000000001,
                        "count": 1
                      },
                      {
                        "bin_start": 87.24900000000001,
                        "bin_end": 87.68,
                        "count": 1
                      }
                    ]
                  }
                },
                {
                  "name": "uLow",
                  "dtype": "float64",
                  "stats": {
                    "unique_count": 5,
                    "nan_count": 0,
                    "min": 79.96,
                    "max": 83.7,
                    "histogram": [
                      {
                        "bin_start": 79.96,
                        "bin_end": 80.33399999999999,
                        "count": 1
                      },
                      {
                        "bin_start": 80.33399999999999,
                        "bin_end": 80.708,
                        "count": 0
                      },
                      {
                        "bin_start": 80.708,
                        "bin_end": 81.082,
                        "count": 0
                      },
                      {
                        "bin_start": 81.082,
                        "bin_end": 81.456,
                        "count": 0
                      },
                      {
                        "bin_start": 81.456,
                        "bin_end": 81.83,
                        "count": 0
                      },
                      {
                        "bin_start": 81.83,
                        "bin_end": 82.204,
                        "count": 1
                      },
                      {
                        "bin_start": 82.204,
                        "bin_end": 82.578,
                        "count": 0
                      },
                      {
                        "bin_start": 82.578,
                        "bin_end": 82.952,
                        "count": 1
                      },
                      {
                        "bin_start": 82.952,
                        "bin_end": 83.32600000000001,
                        "count": 1
                      },
                      {
                        "bin_start": 83.32600000000001,
                        "bin_end": 83.7,
                        "count": 1
                      }
                    ]
                  }
                },
                {
                  "name": "uVolume",
                  "dtype": "int64",
                  "stats": {
                    "unique_count": 5,
                    "nan_count": 0,
                    "min": 33208204,
                    "max": 44742258,
                    "histogram": [
                      {
                        "bin_start": 33208204,
                        "bin_end": 34361609.4,
                        "count": 1
                      },
                      {
                        "bin_start": 34361609.4,
                        "bin_end": 35515014.8,
                        "count": 0
                      },
                      {
                        "bin_start": 35515014.8,
                        "bin_end": 36668420.2,
                        "count": 0
                      },
                      {
                        "bin_start": 36668420.2,
                        "bin_end": 37821825.6,
                        "count": 0
                      },
                      {
                        "bin_start": 37821825.6,
                        "bin_end": 38975231,
                        "count": 0
                      },
                      {
                        "bin_start": 38975231,
                        "bin_end": 40128636.4,
                        "count": 1
                      },
                      {
                        "bin_start": 40128636.4,
                        "bin_end": 41282041.8,
                        "count": 0
                      },
                      {
                        "bin_start": 41282041.8,
                        "bin_end": 42435447.2,
                        "count": 0
                      },
                      {
                        "bin_start": 42435447.2,
                        "bin_end": 43588852.6,
                        "count": 0
                      },
                      {
                        "bin_start": 43588852.6,
                        "bin_end": 44742258,
                        "count": 3
                      }
                    ]
                  }
                },
                {
                  "name": "fOpen",
                  "dtype": "float64",
                  "stats": {
                    "unique_count": 5,
                    "nan_count": 0,
                    "min": 79.7,
                    "max": 86.65,
                    "histogram": [
                      {
                        "bin_start": 79.7,
                        "bin_end": 80.39500000000001,
                        "count": 1
                      },
                      {
                        "bin_start": 80.39500000000001,
                        "bin_end": 81.09,
                        "count": 0
                      },
                      {
                        "bin_start": 81.09,
                        "bin_end": 81.785,
                        "count": 0
                      },
                      {
                        "bin_start": 81.785,
                        "bin_end": 82.48,
                        "count": 1
                      },
                      {
                        "bin_start": 82.48,
                        "bin_end": 83.17500000000001,
                        "count": 1
                      },
                      {
                        "bin_start": 83.17500000000001,
                        "bin_end": 83.87,
                        "count": 1
                      },
                      {
                        "bin_start": 83.87,
                        "bin_end": 84.565,
                        "count": 0
                      },
                      {
                        "bin_start": 84.565,
                        "bin_end": 85.26,
                        "count": 0
                      },
                      {
                        "bin_start": 85.26,
                        "bin_end": 85.95500000000001,
                        "count": 0
                      },
                      {
                        "bin_start": 85.95500000000001,
                        "bin_end": 86.65,
                        "count": 1
                      }
                    ]
                  }
                },
                {
                  "name": "fClose",
                  "dtype": "float64",
                  "stats": {
                    "unique_count": 5,
                    "nan_count": 0,
                    "min": 81.57,
                    "max": 85.81,
                    "histogram": [
                      {
                        "bin_start": 81.57,
                        "bin_end": 81.994,
                        "count": 1
                      },
                      {
                        "bin_start": 81.994,
                        "bin_end": 82.41799999999999,
                        "count": 1
                      },
                      {
                        "bin_start": 82.41799999999999,
                        "bin_end": 82.842,
                        "count": 0
                      },
                      {
                        "bin_start": 82.842,
                        "bin_end": 83.26599999999999,
                        "count": 0
                      },
                      {
                        "bin_start": 83.26599999999999,
                        "bin_end": 83.69,
                        "count": 0
                      },
                      {
                        "bin_start": 83.69,
                        "bin_end": 84.114,
                        "count": 1
                      },
                      {
                        "bin_start": 84.114,
                        "bin_end": 84.538,
                        "count": 0
                      },
                      {
                        "bin_start": 84.538,
                        "bin_end": 84.962,
                        "count": 0
                      },
                      {
                        "bin_start": 84.962,
                        "bin_end": 85.386,
                        "count": 0
                      },
                      {
                        "bin_start": 85.386,
                        "bin_end": 85.81,
                        "count": 2
                      }
                    ]
                  }
                },
                {
                  "name": "fHigh",
                  "dtype": "float64",
                  "stats": {
                    "unique_count": 5,
                    "nan_count": 0,
                    "min": 82.95,
                    "max": 85.81,
                    "histogram": [
                      {
                        "bin_start": 82.95,
                        "bin_end": 83.236,
                        "count": 1
                      },
                      {
                        "bin_start": 83.236,
                        "bin_end": 83.522,
                        "count": 1
                      },
                      {
                        "bin_start": 83.522,
                        "bin_end": 83.808,
                        "count": 1
                      },
                      {
                        "bin_start": 83.808,
                        "bin_end": 84.09400000000001,
                        "count": 0
                      },
                      {
                        "bin_start": 84.09400000000001,
                        "bin_end": 84.38,
                        "count": 0
                      },
                      {
                        "bin_start": 84.38,
                        "bin_end": 84.666,
                        "count": 0
                      },
                      {
                        "bin_start": 84.666,
                        "bin_end": 84.952,
                        "count": 0
                      },
                      {
                        "bin_start": 84.952,
                        "bin_end": 85.238,
                        "count": 0
                      },
                      {
                        "bin_start": 85.238,
                        "bin_end": 85.524,
                        "count": 0
                      },
                      {
                        "bin_start": 85.524,
                        "bin_end": 85.81,
                        "count": 2
                      }
                    ]
                  }
                },
                {
                  "name": "fLow",
                  "dtype": "float64",
                  "stats": {
                    "unique_count": 5,
                    "nan_count": 0,
                    "min": 79.92,
                    "max": 84.8,
                    "histogram": [
                      {
                        "bin_start": 79.92,
                        "bin_end": 80.408,
                        "count": 1
                      },
                      {
                        "bin_start": 80.408,
                        "bin_end": 80.896,
                        "count": 0
                      },
                      {
                        "bin_start": 80.896,
                        "bin_end": 81.384,
                        "count": 2
                      },
                      {
                        "bin_start": 81.384,
                        "bin_end": 81.872,
                        "count": 0
                      },
                      {
                        "bin_start": 81.872,
                        "bin_end": 82.36,
                        "count": 0
                      },
                      {
                        "bin_start": 82.36,
                        "bin_end": 82.848,
                        "count": 0
                      },
                      {
                        "bin_start": 82.848,
                        "bin_end": 83.336,
                        "count": 0
                      },
                      {
                        "bin_start": 83.336,
                        "bin_end": 83.824,
                        "count": 0
                      },
                      {
                        "bin_start": 83.824,
                        "bin_end": 84.312,
                        "count": 1
                      },
                      {
                        "bin_start": 84.312,
                        "bin_end": 84.8,
                        "count": 1
                      }
                    ]
                  }
                },
                {
                  "name": "fVolume",
                  "dtype": "int64",
                  "stats": {
                    "unique_count": 5,
                    "nan_count": 0,
                    "min": 33795612,
                    "max": 44504562,
                    "histogram": [
                      {
                        "bin_start": 33795612,
                        "bin_end": 34866507,
                        "count": 1
                      },
                      {
                        "bin_start": 34866507,
                        "bin_end": 35937402,
                        "count": 0
                      },
                      {
                        "bin_start": 35937402,
                        "bin_end": 37008297,
                        "count": 0
                      },
                      {
                        "bin_start": 37008297,
                        "bin_end": 38079192,
                        "count": 0
                      },
                      {
                        "bin_start": 38079192,
                        "bin_end": 39150087,
                        "count": 0
                      },
                      {
                        "bin_start": 39150087,
                        "bin_end": 40220982,
                        "count": 1
                      },
                      {
                        "bin_start": 40220982,
                        "bin_end": 41291877,
                        "count": 0
                      },
                      {
                        "bin_start": 41291877,
                        "bin_end": 42362772,
                        "count": 0
                      },
                      {
                        "bin_start": 42362772,
                        "bin_end": 43433667,
                        "count": 0
                      },
                      {
                        "bin_start": 43433667,
                        "bin_end": 44504562,
                        "count": 3
                      }
                    ]
                  }
                },
                {
                  "name": "label",
                  "dtype": "object",
                  "stats": {
                    "unique_count": 5,
                    "nan_count": 0,
                    "categories": [
                      {
                        "name": "Mar 17, 21",
                        "count": 1
                      },
                      {
                        "name": "Mar 16, 21",
                        "count": 1
                      },
                      {
                        "name": "3 others",
                        "count": 3
                      }
                    ]
                  }
                },
                {
                  "name": "change",
                  "dtype": "float64",
                  "stats": {
                    "unique_count": 5,
                    "nan_count": 0,
                    "min": -1.492733676736177,
                    "max": 0.18385043993029546,
                    "histogram": [
                      {
                        "bin_start": -1.492733676736177,
                        "bin_end": -1.3250752650695297,
                        "count": 1
                      },
                      {
                        "bin_start": -1.3250752650695297,
                        "bin_end": -1.1574168534028826,
                        "count": 0
                      },
                      {
                        "bin_start": -1.1574168534028826,
                        "bin_end": -0.9897584417362353,
                        "count": 0
                      },
                      {
                        "bin_start": -0.9897584417362353,
                        "bin_end": -0.822100030069588,
                        "count": 0
                      },
                      {
                        "bin_start": -0.822100030069588,
                        "bin_end": -0.6544416184029407,
                        "count": 0
                      },
                      {
                        "bin_start": -0.6544416184029407,
                        "bin_end": -0.4867832067362936,
                        "count": 0
                      },
                      {
                        "bin_start": -0.4867832067362936,
                        "bin_end": -0.3191247950696463,
                        "count": 0
                      },
                      {
                        "bin_start": -0.3191247950696463,
                        "bin_end": -0.151466383402999,
                        "count": 1
                      },
                      {
                        "bin_start": -0.151466383402999,
                        "bin_end": 0.016192028263648295,
                        "count": 1
                      },
                      {
                        "bin_start": 0.016192028263648295,
                        "bin_end": 0.18385043993029546,
                        "count": 2
                      }
                    ]
                  }
                },
                {
                  "name": "changePercent",
                  "dtype": "float64",
                  "stats": {
                    "unique_count": 5,
                    "nan_count": 0,
                    "min": -0.0184,
                    "max": 0.0023,
                    "histogram": [
                      {
                        "bin_start": -0.0184,
                        "bin_end": -0.01633,
                        "count": 1
                      },
                      {
                        "bin_start": -0.01633,
                        "bin_end": -0.01426,
                        "count": 0
                      },
                      {
                        "bin_start": -0.01426,
                        "bin_end": -0.01219,
                        "count": 0
                      },
                      {
                        "bin_start": -0.01219,
                        "bin_end": -0.01012,
                        "count": 0
                      },
                      {
                        "bin_start": -0.01012,
                        "bin_end": -0.008050000000000002,
                        "count": 0
                      },
                      {
                        "bin_start": -0.008050000000000002,
                        "bin_end": -0.005980000000000001,
                        "count": 0
                      },
                      {
                        "bin_start": -0.005980000000000001,
                        "bin_end": -0.00391,
                        "count": 0
                      },
                      {
                        "bin_start": -0.00391,
                        "bin_end": -0.0018400000000000014,
                        "count": 1
                      },
                      {
                        "bin_start": -0.0018400000000000014,
                        "bin_end": 0.00022999999999999757,
                        "count": 1
                      },
                      {
                        "bin_start": 0.00022999999999999757,
                        "bin_end": 0.0023,
                        "count": 2
                      }
                    ]
                  }
                },
                {
                  "name": "_deepnote_index_column",
                  "dtype": "datetime64[ns]"
                }
              ],
              "rows_top": [
                {
                  "close": 83.03,
                  "high": 84.65,
                  "low": 82.893,
                  "open": 83.73,
                  "symbol": "AMD",
                  "volume": 45308867,
                  "id": "AETHICCSPORRSIIL_",
                  "key": "DAM",
                  "subkey": "0",
                  "updated": "2022-08-19T01:24:03.968000",
                  "changeOverTime": 0,
                  "marketChangeOverTime": 0,
                  "uOpen": 84.62,
                  "uClose": 84.87,
                  "uHigh": 83.37,
                  "uLow": 81.961,
                  "uVolume": 44490683,
                  "fOpen": 82.2,
                  "fClose": 85.81,
                  "fHigh": 83.65,
                  "fLow": 81.319,
                  "fVolume": 44217942,
                  "label": "Mar 17, 21",
                  "change": 0,
                  "changePercent": 0,
                  "_deepnote_index_column": "2021-03-17T00:00:00.000000"
                },
                {
                  "close": 85.61,
                  "high": 88.89,
                  "low": 83.85,
                  "open": 86.05,
                  "symbol": "AMD",
                  "volume": 43274272,
                  "id": "TSRCCLRS_IPAIEHOI",
                  "key": "MDA",
                  "subkey": "0",
                  "updated": "2023-04-24T18:00:47.316000",
                  "changeOverTime": 0.0014978129252274993,
                  "marketChangeOverTime": 0.0014779069889544522,
                  "uOpen": 85.65,
                  "uClose": 85.92,
                  "uHigh": 87.68,
                  "uLow": 83.004,
                  "uVolume": 44742258,
                  "fOpen": 86.65,
                  "fClose": 85.41,
                  "fHigh": 85.81,
                  "fLow": 83.894,
                  "fVolume": 43595271,
                  "label": "Mar 16, 21",
                  "change": 0.12090291598482576,
                  "changePercent": 0.0015,
                  "_deepnote_index_column": "2021-03-16T00:00:00.000000"
                },
                {
                  "close": 85,
                  "high": 87.32,
                  "low": 83.1,
                  "open": 84.73,
                  "symbol": "AMD",
                  "volume": 40616994,
                  "id": "LHOAIRIPICSR_ECTS",
                  "key": "MDA",
                  "subkey": "0",
                  "updated": "2023-09-19T12:13:36.322000",
                  "changeOverTime": -0.0015797085123642857,
                  "marketChangeOverTime": -0.001598228540846253,
                  "uOpen": 82.4,
                  "uClose": 84.5,
                  "uHigh": 87.08,
                  "uLow": 83.7,
                  "uVolume": 40014757,
                  "fOpen": 82.63,
                  "fClose": 83.9,
                  "fHigh": 85.58,
                  "fLow": 84.8,
                  "fVolume": 39572892,
                  "label": "Mar 15, 21",
                  "change": -0.26,
                  "changePercent": -0.003,
                  "_deepnote_index_column": "2021-03-15T00:00:00.000000"
                },
                {
                  "close": 81.63,
                  "high": 83.57,
                  "low": 81.14,
                  "open": 83.59,
                  "symbol": "AMD",
                  "volume": 33462816,
                  "id": "CCHOIIL_PASERISTR",
                  "key": "MAD",
                  "subkey": "0",
                  "updated": "2022-07-28T00:27:11.092000",
                  "changeOverTime": -0.019983122481866178,
                  "marketChangeOverTime": -0.019721891009096767,
                  "uOpen": 82.53,
                  "uClose": 83.96,
                  "uHigh": 83.84,
                  "uLow": 82.73,
                  "uVolume": 33208204,
                  "fOpen": 83.38,
                  "fClose": 81.57,
                  "fHigh": 83.31,
                  "fLow": 81.11,
                  "fVolume": 33795612,
                  "label": "Mar 12, 21",
                  "change": -1.492733676736177,
                  "changePercent": -0.0184,
                  "_deepnote_index_column": "2021-03-12T00:00:00.000000"
                },
                {
                  "close": 81.42,
                  "high": 83.52,
                  "low": 82.8,
                  "open": 82.7,
                  "symbol": "AMD",
                  "volume": 45388391,
                  "id": "IOSSPI_ACHRLIERTC",
                  "key": "ADM",
                  "subkey": "0",
                  "updated": "2023-08-06T03:22:06.564000",
                  "changeOverTime": -0.01771537955152725,
                  "marketChangeOverTime": -0.01738235344408185,
                  "uOpen": 82.7,
                  "uClose": 84.62,
                  "uHigh": 84.57,
                  "uLow": 79.96,
                  "uVolume": 44289231,
                  "fOpen": 79.7,
                  "fClose": 82.12,
                  "fHigh": 82.95,
                  "fLow": 79.92,
                  "fVolume": 44504562,
                  "label": "Mar 11, 21",
                  "change": 0.18385043993029546,
                  "changePercent": 0.0023,
                  "_deepnote_index_column": "2021-03-11T00:00:00.000000"
                }
              ],
              "rows_bottom": null
            },
            "text/plain": "            close   high     low   open symbol    volume                 id  \\\ndate                                                                          \n2021-03-17  83.03  84.65  82.893  83.73    AMD  45308867  AETHICCSPORRSIIL_   \n2021-03-16  85.61  88.89  83.850  86.05    AMD  43274272  TSRCCLRS_IPAIEHOI   \n2021-03-15  85.00  87.32  83.100  84.73    AMD  40616994  LHOAIRIPICSR_ECTS   \n2021-03-12  81.63  83.57  81.140  83.59    AMD  33462816  CCHOIIL_PASERISTR   \n2021-03-11  81.42  83.52  82.800  82.70    AMD  45388391  IOSSPI_ACHRLIERTC   \n\n            key subkey                 updated  ...    uLow   uVolume  fOpen  \\\ndate                                            ...                            \n2021-03-17  DAM      0 2022-08-19 01:24:03.968  ...  81.961  44490683  82.20   \n2021-03-16  MDA      0 2023-04-24 18:00:47.316  ...  83.004  44742258  86.65   \n2021-03-15  MDA      0 2023-09-19 12:13:36.322  ...  83.700  40014757  82.63   \n2021-03-12  MAD      0 2022-07-28 00:27:11.092  ...  82.730  33208204  83.38   \n2021-03-11  ADM      0 2023-08-06 03:22:06.564  ...  79.960  44289231  79.70   \n\n            fClose  fHigh    fLow   fVolume       label    change  \\\ndate                                                                \n2021-03-17   85.81  83.65  81.319  44217942  Mar 17, 21  0.000000   \n2021-03-16   85.41  85.81  83.894  43595271  Mar 16, 21  0.120903   \n2021-03-15   83.90  85.58  84.800  39572892  Mar 15, 21 -0.260000   \n2021-03-12   81.57  83.31  81.110  33795612  Mar 12, 21 -1.492734   \n2021-03-11   82.12  82.95  79.920  44504562  Mar 11, 21  0.183850   \n\n            changePercent  \ndate                       \n2021-03-17         0.0000  \n2021-03-16         0.0015  \n2021-03-15        -0.0030  \n2021-03-12        -0.0184  \n2021-03-11         0.0023  \n\n[5 rows x 25 columns]",
            "text/html": "<div>\n<style scoped>\n    .dataframe tbody tr th:only-of-type {\n        vertical-align: middle;\n    }\n\n    .dataframe tbody tr th {\n        vertical-align: top;\n    }\n\n    .dataframe thead th {\n        text-align: right;\n    }\n</style>\n<table border=\"1\" class=\"dataframe\">\n  <thead>\n    <tr style=\"text-align: right;\">\n      <th></th>\n      <th>close</th>\n      <th>high</th>\n      <th>low</th>\n      <th>open</th>\n      <th>symbol</th>\n      <th>volume</th>\n      <th>id</th>\n      <th>key</th>\n      <th>subkey</th>\n      <th>updated</th>\n      <th>...</th>\n      <th>uLow</th>\n      <th>uVolume</th>\n      <th>fOpen</th>\n      <th>fClose</th>\n      <th>fHigh</th>\n      <th>fLow</th>\n      <th>fVolume</th>\n      <th>label</th>\n      <th>change</th>\n      <th>changePercent</th>\n    </tr>\n    <tr>\n      <th>date</th>\n      <th></th>\n      <th></th>\n      <th></th>\n      <th></th>\n      <th></th>\n      <th></th>\n      <th></th>\n      <th></th>\n      <th></th>\n      <th></th>\n      <th></th>\n      <th></th>\n      <th></th>\n      <th></th>\n      <th></th>\n      <th></th>\n      <th></th>\n      <th></th>\n      <th></th>\n      <th></th>\n      <th></th>\n    </tr>\n  </thead>\n  <tbody>\n    <tr>\n      <th>2021-03-17</th>\n      <td>83.03</td>\n      <td>84.65</td>\n      <td>82.893</td>\n      <td>83.73</td>\n      <td>AMD</td>\n      <td>45308867</td>\n      <td>AETHICCSPORRSIIL_</td>\n      <td>DAM</td>\n      <td>0</td>\n      <td>2022-08-19 01:24:03.968</td>\n      <td>...</td>\n      <td>81.961</td>\n      <td>44490683</td>\n      <td>82.20</td>\n      <td>85.81</td>\n      <td>83.65</td>\n      <td>81.319</td>\n      <td>44217942</td>\n      <td>Mar 17, 21</td>\n      <td>0.000000</td>\n      <td>0.0000</td>\n    </tr>\n    <tr>\n      <th>2021-03-16</th>\n      <td>85.61</td>\n      <td>88.89</td>\n      <td>83.850</td>\n      <td>86.05</td>\n      <td>AMD</td>\n      <td>43274272</td>\n      <td>TSRCCLRS_IPAIEHOI</td>\n      <td>MDA</td>\n      <td>0</td>\n      <td>2023-04-24 18:00:47.316</td>\n      <td>...</td>\n      <td>83.004</td>\n      <td>44742258</td>\n      <td>86.65</td>\n      <td>85.41</td>\n      <td>85.81</td>\n      <td>83.894</td>\n      <td>43595271</td>\n      <td>Mar 16, 21</td>\n      <td>0.120903</td>\n      <td>0.0015</td>\n    </tr>\n    <tr>\n      <th>2021-03-15</th>\n      <td>85.00</td>\n      <td>87.32</td>\n      <td>83.100</td>\n      <td>84.73</td>\n      <td>AMD</td>\n      <td>40616994</td>\n      <td>LHOAIRIPICSR_ECTS</td>\n      <td>MDA</td>\n      <td>0</td>\n      <td>2023-09-19 12:13:36.322</td>\n      <td>...</td>\n      <td>83.700</td>\n      <td>40014757</td>\n      <td>82.63</td>\n      <td>83.90</td>\n      <td>85.58</td>\n      <td>84.800</td>\n      <td>39572892</td>\n      <td>Mar 15, 21</td>\n      <td>-0.260000</td>\n      <td>-0.0030</td>\n    </tr>\n    <tr>\n      <th>2021-03-12</th>\n      <td>81.63</td>\n      <td>83.57</td>\n      <td>81.140</td>\n      <td>83.59</td>\n      <td>AMD</td>\n      <td>33462816</td>\n      <td>CCHOIIL_PASERISTR</td>\n      <td>MAD</td>\n      <td>0</td>\n      <td>2022-07-28 00:27:11.092</td>\n      <td>...</td>\n      <td>82.730</td>\n      <td>33208204</td>\n      <td>83.38</td>\n      <td>81.57</td>\n      <td>83.31</td>\n      <td>81.110</td>\n      <td>33795612</td>\n      <td>Mar 12, 21</td>\n      <td>-1.492734</td>\n      <td>-0.0184</td>\n    </tr>\n    <tr>\n      <th>2021-03-11</th>\n      <td>81.42</td>\n      <td>83.52</td>\n      <td>82.800</td>\n      <td>82.70</td>\n      <td>AMD</td>\n      <td>45388391</td>\n      <td>IOSSPI_ACHRLIERTC</td>\n      <td>ADM</td>\n      <td>0</td>\n      <td>2023-08-06 03:22:06.564</td>\n      <td>...</td>\n      <td>79.960</td>\n      <td>44289231</td>\n      <td>79.70</td>\n      <td>82.12</td>\n      <td>82.95</td>\n      <td>79.920</td>\n      <td>44504562</td>\n      <td>Mar 11, 21</td>\n      <td>0.183850</td>\n      <td>0.0023</td>\n    </tr>\n  </tbody>\n</table>\n<p>5 rows × 25 columns</p>\n</div>"
          },
          "metadata": {}
        }
      ]
    },
    {
      "cell_type": "markdown",
      "source": "## Asset Statistics",
      "metadata": {
        "tags": [],
        "cell_id": "00002-9bee0061-c336-4886-b745-10dd961387ed",
        "deepnote_cell_type": "markdown"
      }
    },
    {
      "cell_type": "code",
      "metadata": {
        "tags": [],
        "cell_id": "00001-1b8e75b2-64fc-4ac7-9082-7f052fbd01b4",
        "deepnote_to_be_reexecuted": false,
        "source_hash": "5f0727bf",
        "execution_millis": 167,
        "execution_start": 1616084809692,
        "deepnote_cell_type": "code"
      },
      "source": "df = p.financialsDF('AMD')\ndf.head()",
      "execution_count": 12,
      "outputs": [
        {
          "name": "stderr",
          "text": "/shared-libs/python3.7/py/lib/python3.7/site-packages/numpy/lib/histograms.py:822: RuntimeWarning: divide by zero encountered in double_scalars\n  norm = n_equal_bins / _unsigned_subtract(last_edge, first_edge)\n/shared-libs/python3.7/py/lib/python3.7/site-packages/numpy/lib/histograms.py:850: RuntimeWarning: invalid value encountered in multiply\n  f_indices = _unsigned_subtract(tmp_a, first_edge) * norm\n",
          "output_type": "stream"
        },
        {
          "output_type": "execute_result",
          "execution_count": 12,
          "data": {
            "application/vnd.deepnote.dataframe.v2+json": {
              "row_count": 1,
              "column_count": 68,
              "columns": [
                {
                  "name": "EBITDA",
                  "dtype": "int64",
                  "stats": {
                    "unique_count": 1,
                    "nan_count": 0,
                    "min": 677449727,
                    "max": 677449727,
                    "histogram": [
                      {
                        "bin_start": 677449726.5,
                        "bin_end": 677449726.6,
                        "count": 0
                      },
                      {
                        "bin_start": 677449726.6,
                        "bin_end": 677449726.7,
                        "count": 0
                      },
                      {
                        "bin_start": 677449726.7,
                        "bin_end": 677449726.8,
                        "count": 0
                      },
                      {
                        "bin_start": 677449726.8,
                        "bin_end": 677449726.9,
                        "count": 0
                      },
                      {
                        "bin_start": 677449726.9,
                        "bin_end": 677449727,
                        "count": 0
                      },
                      {
                        "bin_start": 677449727,
                        "bin_end": 677449727.1,
                        "count": 1
                      },
                      {
                        "bin_start": 677449727.1,
                        "bin_end": 677449727.2,
                        "count": 0
                      },
                      {
                        "bin_start": 677449727.2,
                        "bin_end": 677449727.3,
                        "count": 0
                      },
                      {
                        "bin_start": 677449727.3,
                        "bin_end": 677449727.4,
                        "count": 0
                      },
                      {
                        "bin_start": 677449727.4,
                        "bin_end": 677449727.5,
                        "count": 0
                      }
                    ]
                  }
                },
                {
                  "name": "accountsPayable",
                  "dtype": "int64",
                  "stats": {
                    "unique_count": 1,
                    "nan_count": 0,
                    "min": 557668125,
                    "max": 557668125,
                    "histogram": [
                      {
                        "bin_start": 557668124.5,
                        "bin_end": 557668124.6,
                        "count": 0
                      },
                      {
                        "bin_start": 557668124.6,
                        "bin_end": 557668124.7,
                        "count": 0
                      },
                      {
                        "bin_start": 557668124.7,
                        "bin_end": 557668124.8,
                        "count": 0
                      },
                      {
                        "bin_start": 557668124.8,
                        "bin_end": 557668124.9,
                        "count": 0
                      },
                      {
                        "bin_start": 557668124.9,
                        "bin_end": 557668125,
                        "count": 0
                      },
                      {
                        "bin_start": 557668125,
                        "bin_end": 557668125.1,
                        "count": 1
                      },
                      {
                        "bin_start": 557668125.1,
                        "bin_end": 557668125.2,
                        "count": 0
                      },
                      {
                        "bin_start": 557668125.2,
                        "bin_end": 557668125.3,
                        "count": 0
                      },
                      {
                        "bin_start": 557668125.3,
                        "bin_end": 557668125.4,
                        "count": 0
                      },
                      {
                        "bin_start": 557668125.4,
                        "bin_end": 557668125.5,
                        "count": 0
                      }
                    ]
                  }
                },
                {
                  "name": "capitalSurplus",
                  "dtype": "object",
                  "stats": {
                    "unique_count": 0,
                    "nan_count": 1,
                    "categories": [
                      {
                        "name": "Missing",
                        "count": 1
                      }
                    ]
                  }
                },
                {
                  "name": "cashChange",
                  "dtype": "int64",
                  "stats": {
                    "unique_count": 1,
                    "nan_count": 0,
                    "min": 528171463,
                    "max": 528171463,
                    "histogram": [
                      {
                        "bin_start": 528171462.5,
                        "bin_end": 528171462.6,
                        "count": 0
                      },
                      {
                        "bin_start": 528171462.6,
                        "bin_end": 528171462.7,
                        "count": 0
                      },
                      {
                        "bin_start": 528171462.7,
                        "bin_end": 528171462.8,
                        "count": 0
                      },
                      {
                        "bin_start": 528171462.8,
                        "bin_end": 528171462.9,
                        "count": 0
                      },
                      {
                        "bin_start": 528171462.9,
                        "bin_end": 528171463,
                        "count": 0
                      },
                      {
                        "bin_start": 528171463,
                        "bin_end": 528171463.1,
                        "count": 1
                      },
                      {
                        "bin_start": 528171463.1,
                        "bin_end": 528171463.2,
                        "count": 0
                      },
                      {
                        "bin_start": 528171463.2,
                        "bin_end": 528171463.3,
                        "count": 0
                      },
                      {
                        "bin_start": 528171463.3,
                        "bin_end": 528171463.4,
                        "count": 0
                      },
                      {
                        "bin_start": 528171463.4,
                        "bin_end": 528171463.5,
                        "count": 0
                      }
                    ]
                  }
                },
                {
                  "name": "cashFlow",
                  "dtype": "int64",
                  "stats": {
                    "unique_count": 1,
                    "nan_count": 0,
                    "min": 1071371952,
                    "max": 1071371952,
                    "histogram": [
                      {
                        "bin_start": 1071371951.5,
                        "bin_end": 1071371951.6,
                        "count": 0
                      },
                      {
                        "bin_start": 1071371951.6,
                        "bin_end": 1071371951.7,
                        "count": 0
                      },
                      {
                        "bin_start": 1071371951.7,
                        "bin_end": 1071371951.8,
                        "count": 0
                      },
                      {
                        "bin_start": 1071371951.8,
                        "bin_end": 1071371951.9,
                        "count": 0
                      },
                      {
                        "bin_start": 1071371951.9,
                        "bin_end": 1071371952,
                        "count": 0
                      },
                      {
                        "bin_start": 1071371952,
                        "bin_end": 1071371952.1,
                        "count": 1
                      },
                      {
                        "bin_start": 1071371952.1,
                        "bin_end": 1071371952.2,
                        "count": 0
                      },
                      {
                        "bin_start": 1071371952.2,
                        "bin_end": 1071371952.3,
                        "count": 0
                      },
                      {
                        "bin_start": 1071371952.3,
                        "bin_end": 1071371952.4,
                        "count": 0
                      },
                      {
                        "bin_start": 1071371952.4,
                        "bin_end": 1071371952.5,
                        "count": 0
                      }
                    ]
                  }
                },
                {
                  "name": "cashFlowFinancing",
                  "dtype": "int64",
                  "stats": {
                    "unique_count": 1,
                    "nan_count": 0,
                    "min": 6164868,
                    "max": 6164868,
                    "histogram": [
                      {
                        "bin_start": 6164867.5,
                        "bin_end": 6164867.6,
                        "count": 0
                      },
                      {
                        "bin_start": 6164867.6,
                        "bin_end": 6164867.7,
                        "count": 0
                      },
                      {
                        "bin_start": 6164867.7,
                        "bin_end": 6164867.8,
                        "count": 0
                      },
                      {
                        "bin_start": 6164867.8,
                        "bin_end": 6164867.9,
                        "count": 0
                      },
                      {
                        "bin_start": 6164867.9,
                        "bin_end": 6164868,
                        "count": 0
                      },
                      {
                        "bin_start": 6164868,
                        "bin_end": 6164868.1,
                        "count": 1
                      },
                      {
                        "bin_start": 6164868.1,
                        "bin_end": 6164868.2,
                        "count": 0
                      },
                      {
                        "bin_start": 6164868.2,
                        "bin_end": 6164868.3,
                        "count": 0
                      },
                      {
                        "bin_start": 6164868.3,
                        "bin_end": 6164868.4,
                        "count": 0
                      },
                      {
                        "bin_start": 6164868.4,
                        "bin_end": 6164868.5,
                        "count": 0
                      }
                    ]
                  }
                },
                {
                  "name": "changesInInventories",
                  "dtype": "int64",
                  "stats": {
                    "unique_count": 1,
                    "nan_count": 0,
                    "min": 107875814,
                    "max": 107875814,
                    "histogram": [
                      {
                        "bin_start": 107875813.5,
                        "bin_end": 107875813.6,
                        "count": 0
                      },
                      {
                        "bin_start": 107875813.6,
                        "bin_end": 107875813.7,
                        "count": 0
                      },
                      {
                        "bin_start": 107875813.7,
                        "bin_end": 107875813.8,
                        "count": 0
                      },
                      {
                        "bin_start": 107875813.8,
                        "bin_end": 107875813.9,
                        "count": 0
                      },
                      {
                        "bin_start": 107875813.9,
                        "bin_end": 107875814,
                        "count": 0
                      },
                      {
                        "bin_start": 107875814,
                        "bin_end": 107875814.1,
                        "count": 1
                      },
                      {
                        "bin_start": 107875814.1,
                        "bin_end": 107875814.2,
                        "count": 0
                      },
                      {
                        "bin_start": 107875814.2,
                        "bin_end": 107875814.3,
                        "count": 0
                      },
                      {
                        "bin_start": 107875814.3,
                        "bin_end": 107875814.4,
                        "count": 0
                      },
                      {
                        "bin_start": 107875814.4,
                        "bin_end": 107875814.5,
                        "count": 0
                      }
                    ]
                  }
                },
                {
                  "name": "changesInReceivables",
                  "dtype": "int64",
                  "stats": {
                    "unique_count": 1,
                    "nan_count": 0,
                    "min": -60691948,
                    "max": -60691948,
                    "histogram": [
                      {
                        "bin_start": -60691948.5,
                        "bin_end": -60691948.4,
                        "count": 0
                      },
                      {
                        "bin_start": -60691948.4,
                        "bin_end": -60691948.3,
                        "count": 0
                      },
                      {
                        "bin_start": -60691948.3,
                        "bin_end": -60691948.2,
                        "count": 0
                      },
                      {
                        "bin_start": -60691948.2,
                        "bin_end": -60691948.1,
                        "count": 0
                      },
                      {
                        "bin_start": -60691948.1,
                        "bin_end": -60691948,
                        "count": 0
                      },
                      {
                        "bin_start": -60691948,
                        "bin_end": -60691947.9,
                        "count": 1
                      },
                      {
                        "bin_start": -60691947.9,
                        "bin_end": -60691947.8,
                        "count": 0
                      },
                      {
                        "bin_start": -60691947.8,
                        "bin_end": -60691947.7,
                        "count": 0
                      },
                      {
                        "bin_start": -60691947.7,
                        "bin_end": -60691947.6,
                        "count": 0
                      },
                      {
                        "bin_start": -60691947.6,
                        "bin_end": -60691947.5,
                        "count": 0
                      }
                    ]
                  }
                },
                {
                  "name": "commonStock",
                  "dtype": "int64",
                  "stats": {
                    "unique_count": 1,
                    "nan_count": 0,
                    "min": 1245672355,
                    "max": 1245672355,
                    "histogram": [
                      {
                        "bin_start": 1245672354.5,
                        "bin_end": 1245672354.6,
                        "count": 0
                      },
                      {
                        "bin_start": 1245672354.6,
                        "bin_end": 1245672354.7,
                        "count": 0
                      },
                      {
                        "bin_start": 1245672354.7,
                        "bin_end": 1245672354.8,
                        "count": 0
                      },
                      {
                        "bin_start": 1245672354.8,
                        "bin_end": 1245672354.9,
                        "count": 0
                      },
                      {
                        "bin_start": 1245672354.9,
                        "bin_end": 1245672355,
                        "count": 0
                      },
                      {
                        "bin_start": 1245672355,
                        "bin_end": 1245672355.1,
                        "count": 1
                      },
                      {
                        "bin_start": 1245672355.1,
                        "bin_end": 1245672355.2,
                        "count": 0
                      },
                      {
                        "bin_start": 1245672355.2,
                        "bin_end": 1245672355.3,
                        "count": 0
                      },
                      {
                        "bin_start": 1245672355.3,
                        "bin_end": 1245672355.4,
                        "count": 0
                      },
                      {
                        "bin_start": 1245672355.4,
                        "bin_end": 1245672355.5,
                        "count": 0
                      }
                    ]
                  }
                },
                {
                  "name": "costOfRevenue",
                  "dtype": "int64",
                  "stats": {
                    "unique_count": 1,
                    "nan_count": 0,
                    "min": 1841412557,
                    "max": 1841412557,
                    "histogram": [
                      {
                        "bin_start": 1841412556.5,
                        "bin_end": 1841412556.6,
                        "count": 0
                      },
                      {
                        "bin_start": 1841412556.6,
                        "bin_end": 1841412556.7,
                        "count": 0
                      },
                      {
                        "bin_start": 1841412556.7,
                        "bin_end": 1841412556.8,
                        "count": 0
                      },
                      {
                        "bin_start": 1841412556.8,
                        "bin_end": 1841412556.9,
                        "count": 0
                      },
                      {
                        "bin_start": 1841412556.9,
                        "bin_end": 1841412557,
                        "count": 0
                      },
                      {
                        "bin_start": 1841412557,
                        "bin_end": 1841412557.1,
                        "count": 1
                      },
                      {
                        "bin_start": 1841412557.1,
                        "bin_end": 1841412557.2,
                        "count": 0
                      },
                      {
                        "bin_start": 1841412557.2,
                        "bin_end": 1841412557.3,
                        "count": 0
                      },
                      {
                        "bin_start": 1841412557.3,
                        "bin_end": 1841412557.4,
                        "count": 0
                      },
                      {
                        "bin_start": 1841412557.4,
                        "bin_end": 1841412557.5,
                        "count": 0
                      }
                    ]
                  }
                },
                {
                  "name": "currency",
                  "dtype": "object",
                  "stats": {
                    "unique_count": 1,
                    "nan_count": 0,
                    "categories": [
                      {
                        "name": "USD",
                        "count": 1
                      }
                    ]
                  }
                },
                {
                  "name": "currentAssets",
                  "dtype": "int64",
                  "stats": {
                    "unique_count": 1,
                    "nan_count": 0,
                    "min": 6390875989,
                    "max": 6390875989,
                    "histogram": [
                      {
                        "bin_start": 6390875988.5,
                        "bin_end": 6390875988.6,
                        "count": 0
                      },
                      {
                        "bin_start": 6390875988.6,
                        "bin_end": 6390875988.7,
                        "count": 0
                      },
                      {
                        "bin_start": 6390875988.7,
                        "bin_end": 6390875988.8,
                        "count": 0
                      },
                      {
                        "bin_start": 6390875988.8,
                        "bin_end": 6390875988.9,
                        "count": 0
                      },
                      {
                        "bin_start": 6390875988.9,
                        "bin_end": 6390875989,
                        "count": 0
                      },
                      {
                        "bin_start": 6390875989,
                        "bin_end": 6390875989.1,
                        "count": 1
                      },
                      {
                        "bin_start": 6390875989.1,
                        "bin_end": 6390875989.2,
                        "count": 0
                      },
                      {
                        "bin_start": 6390875989.2,
                        "bin_end": 6390875989.3,
                        "count": 0
                      },
                      {
                        "bin_start": 6390875989.3,
                        "bin_end": 6390875989.4,
                        "count": 0
                      },
                      {
                        "bin_start": 6390875989.4,
                        "bin_end": 6390875989.5,
                        "count": 0
                      }
                    ]
                  }
                },
                {
                  "name": "currentCash",
                  "dtype": "int64",
                  "stats": {
                    "unique_count": 1,
                    "nan_count": 0,
                    "min": 2393193448,
                    "max": 2393193448,
                    "histogram": [
                      {
                        "bin_start": 2393193447.5,
                        "bin_end": 2393193447.6,
                        "count": 0
                      },
                      {
                        "bin_start": 2393193447.6,
                        "bin_end": 2393193447.7,
                        "count": 0
                      },
                      {
                        "bin_start": 2393193447.7,
                        "bin_end": 2393193447.8,
                        "count": 0
                      },
                      {
                        "bin_start": 2393193447.8,
                        "bin_end": 2393193447.9,
                        "count": 0
                      },
                      {
                        "bin_start": 2393193447.9,
                        "bin_end": 2393193448,
                        "count": 0
                      },
                      {
                        "bin_start": 2393193448,
                        "bin_end": 2393193448.1,
                        "count": 1
                      },
                      {
                        "bin_start": 2393193448.1,
                        "bin_end": 2393193448.2,
                        "count": 0
                      },
                      {
                        "bin_start": 2393193448.2,
                        "bin_end": 2393193448.3,
                        "count": 0
                      },
                      {
                        "bin_start": 2393193448.3,
                        "bin_end": 2393193448.4,
                        "count": 0
                      },
                      {
                        "bin_start": 2393193448.4,
                        "bin_end": 2393193448.5,
                        "count": 0
                      }
                    ]
                  }
                },
                {
                  "name": "currentDebt",
                  "dtype": "int64",
                  "stats": {
                    "unique_count": 1,
                    "nan_count": 0,
                    "min": 0,
                    "max": 0,
                    "histogram": [
                      {
                        "bin_start": -0.5,
                        "bin_end": -0.4,
                        "count": 0
                      },
                      {
                        "bin_start": -0.4,
                        "bin_end": -0.3,
                        "count": 0
                      },
                      {
                        "bin_start": -0.3,
                        "bin_end": -0.19999999999999996,
                        "count": 0
                      },
                      {
                        "bin_start": -0.19999999999999996,
                        "bin_end": -0.09999999999999998,
                        "count": 0
                      },
                      {
                        "bin_start": -0.09999999999999998,
                        "bin_end": 0,
                        "count": 0
                      },
                      {
                        "bin_start": 0,
                        "bin_end": 0.10000000000000009,
                        "count": 1
                      },
                      {
                        "bin_start": 0.10000000000000009,
                        "bin_end": 0.20000000000000007,
                        "count": 0
                      },
                      {
                        "bin_start": 0.20000000000000007,
                        "bin_end": 0.30000000000000004,
                        "count": 0
                      },
                      {
                        "bin_start": 0.30000000000000004,
                        "bin_end": 0.4,
                        "count": 0
                      },
                      {
                        "bin_start": 0.4,
                        "bin_end": 0.5,
                        "count": 0
                      }
                    ]
                  }
                },
                {
                  "name": "currentLongTermDebt",
                  "dtype": "int64",
                  "stats": {
                    "unique_count": 1,
                    "nan_count": 0,
                    "min": 0,
                    "max": 0,
                    "histogram": [
                      {
                        "bin_start": -0.5,
                        "bin_end": -0.4,
                        "count": 0
                      },
                      {
                        "bin_start": -0.4,
                        "bin_end": -0.3,
                        "count": 0
                      },
                      {
                        "bin_start": -0.3,
                        "bin_end": -0.19999999999999996,
                        "count": 0
                      },
                      {
                        "bin_start": -0.19999999999999996,
                        "bin_end": -0.09999999999999998,
                        "count": 0
                      },
                      {
                        "bin_start": -0.09999999999999998,
                        "bin_end": 0,
                        "count": 0
                      },
                      {
                        "bin_start": 0,
                        "bin_end": 0.10000000000000009,
                        "count": 1
                      },
                      {
                        "bin_start": 0.10000000000000009,
                        "bin_end": 0.20000000000000007,
                        "count": 0
                      },
                      {
                        "bin_start": 0.20000000000000007,
                        "bin_end": 0.30000000000000004,
                        "count": 0
                      },
                      {
                        "bin_start": 0.30000000000000004,
                        "bin_end": 0.4,
                        "count": 0
                      },
                      {
                        "bin_start": 0.4,
                        "bin_end": 0.5,
                        "count": 0
                      }
                    ]
                  }
                },
                {
                  "name": "depreciation",
                  "dtype": "int64",
                  "stats": {
                    "unique_count": 1,
                    "nan_count": 0,
                    "min": 368273776,
                    "max": 368273776,
                    "histogram": [
                      {
                        "bin_start": 368273775.5,
                        "bin_end": 368273775.6,
                        "count": 0
                      },
                      {
                        "bin_start": 368273775.6,
                        "bin_end": 368273775.7,
                        "count": 0
                      },
                      {
                        "bin_start": 368273775.7,
                        "bin_end": 368273775.8,
                        "count": 0
                      },
                      {
                        "bin_start": 368273775.8,
                        "bin_end": 368273775.9,
                        "count": 0
                      },
                      {
                        "bin_start": 368273775.9,
                        "bin_end": 368273776,
                        "count": 0
                      },
                      {
                        "bin_start": 368273776,
                        "bin_end": 368273776.1,
                        "count": 1
                      },
                      {
                        "bin_start": 368273776.1,
                        "bin_end": 368273776.2,
                        "count": 0
                      },
                      {
                        "bin_start": 368273776.2,
                        "bin_end": 368273776.3,
                        "count": 0
                      },
                      {
                        "bin_start": 368273776.3,
                        "bin_end": 368273776.4,
                        "count": 0
                      },
                      {
                        "bin_start": 368273776.4,
                        "bin_end": 368273776.5,
                        "count": 0
                      }
                    ]
                  }
                },
                {
                  "name": "dividendsPaid",
                  "dtype": "object",
                  "stats": {
                    "unique_count": 0,
                    "nan_count": 1,
                    "categories": [
                      {
                        "name": "Missing",
                        "count": 1
                      }
                    ]
                  }
                },
                {
                  "name": "ebit",
                  "dtype": "int64",
                  "stats": {
                    "unique_count": 1,
                    "nan_count": 0,
                    "min": 580045962,
                    "max": 580045962,
                    "histogram": [
                      {
                        "bin_start": 580045961.5,
                        "bin_end": 580045961.6,
                        "count": 0
                      },
                      {
                        "bin_start": 580045961.6,
                        "bin_end": 580045961.7,
                        "count": 0
                      },
                      {
                        "bin_start": 580045961.7,
                        "bin_end": 580045961.8,
                        "count": 0
                      },
                      {
                        "bin_start": 580045961.8,
                        "bin_end": 580045961.9,
                        "count": 0
                      },
                      {
                        "bin_start": 580045961.9,
                        "bin_end": 580045962,
                        "count": 0
                      },
                      {
                        "bin_start": 580045962,
                        "bin_end": 580045962.1,
                        "count": 1
                      },
                      {
                        "bin_start": 580045962.1,
                        "bin_end": 580045962.2,
                        "count": 0
                      },
                      {
                        "bin_start": 580045962.2,
                        "bin_end": 580045962.3,
                        "count": 0
                      },
                      {
                        "bin_start": 580045962.3,
                        "bin_end": 580045962.4,
                        "count": 0
                      },
                      {
                        "bin_start": 580045962.4,
                        "bin_end": 580045962.5,
                        "count": 0
                      }
                    ]
                  }
                },
                {
                  "name": "exchangeRateEffect",
                  "dtype": "object",
                  "stats": {
                    "unique_count": 0,
                    "nan_count": 1,
                    "categories": [
                      {
                        "name": "Missing",
                        "count": 1
                      }
                    ]
                  }
                },
                {
                  "name": "filingType",
                  "dtype": "object",
                  "stats": {
                    "unique_count": 1,
                    "nan_count": 0,
                    "categories": [
                      {
                        "name": "-10K",
                        "count": 1
                      }
                    ]
                  }
                },
                {
                  "name": "fiscalDate",
                  "dtype": "object",
                  "stats": {
                    "unique_count": 1,
                    "nan_count": 0,
                    "categories": [
                      {
                        "name": "2020-12-14",
                        "count": 1
                      }
                    ]
                  }
                },
                {
                  "name": "fiscalQuarter",
                  "dtype": "int64",
                  "stats": {
                    "unique_count": 1,
                    "nan_count": 0,
                    "min": 4,
                    "max": 4,
                    "histogram": [
                      {
                        "bin_start": 3.5,
                        "bin_end": 3.6,
                        "count": 0
                      },
                      {
                        "bin_start": 3.6,
                        "bin_end": 3.7,
                        "count": 0
                      },
                      {
                        "bin_start": 3.7,
                        "bin_end": 3.8,
                        "count": 0
                      },
                      {
                        "bin_start": 3.8,
                        "bin_end": 3.9,
                        "count": 0
                      },
                      {
                        "bin_start": 3.9,
                        "bin_end": 4,
                        "count": 0
                      },
                      {
                        "bin_start": 4,
                        "bin_end": 4.1,
                        "count": 1
                      },
                      {
                        "bin_start": 4.1,
                        "bin_end": 4.2,
                        "count": 0
                      },
                      {
                        "bin_start": 4.2,
                        "bin_end": 4.3,
                        "count": 0
                      },
                      {
                        "bin_start": 4.3,
                        "bin_end": 4.4,
                        "count": 0
                      },
                      {
                        "bin_start": 4.4,
                        "bin_end": 4.5,
                        "count": 0
                      }
                    ]
                  }
                },
                {
                  "name": "fiscalYear",
                  "dtype": "int64",
                  "stats": {
                    "unique_count": 1,
                    "nan_count": 0,
                    "min": 2091,
                    "max": 2091,
                    "histogram": [
                      {
                        "bin_start": 2090.5,
                        "bin_end": 2090.6,
                        "count": 0
                      },
                      {
                        "bin_start": 2090.6,
                        "bin_end": 2090.7,
                        "count": 0
                      },
                      {
                        "bin_start": 2090.7,
                        "bin_end": 2090.8,
                        "count": 0
                      },
                      {
                        "bin_start": 2090.8,
                        "bin_end": 2090.9,
                        "count": 0
                      },
                      {
                        "bin_start": 2090.9,
                        "bin_end": 2091,
                        "count": 0
                      },
                      {
                        "bin_start": 2091,
                        "bin_end": 2091.1,
                        "count": 1
                      },
                      {
                        "bin_start": 2091.1,
                        "bin_end": 2091.2,
                        "count": 0
                      },
                      {
                        "bin_start": 2091.2,
                        "bin_end": 2091.3,
                        "count": 0
                      },
                      {
                        "bin_start": 2091.3,
                        "bin_end": 2091.4,
                        "count": 0
                      },
                      {
                        "bin_start": 2091.4,
                        "bin_end": 2091.5,
                        "count": 0
                      }
                    ]
                  }
                },
                {
                  "name": "goodwill",
                  "dtype": "int64",
                  "stats": {
                    "unique_count": 1,
                    "nan_count": 0,
                    "min": 296564427,
                    "max": 296564427,
                    "histogram": [
                      {
                        "bin_start": 296564426.5,
                        "bin_end": 296564426.6,
                        "count": 0
                      },
                      {
                        "bin_start": 296564426.6,
                        "bin_end": 296564426.7,
                        "count": 0
                      },
                      {
                        "bin_start": 296564426.7,
                        "bin_end": 296564426.8,
                        "count": 0
                      },
                      {
                        "bin_start": 296564426.8,
                        "bin_end": 296564426.9,
                        "count": 0
                      },
                      {
                        "bin_start": 296564426.9,
                        "bin_end": 296564427,
                        "count": 0
                      },
                      {
                        "bin_start": 296564427,
                        "bin_end": 296564427.1,
                        "count": 1
                      },
                      {
                        "bin_start": 296564427.1,
                        "bin_end": 296564427.2,
                        "count": 0
                      },
                      {
                        "bin_start": 296564427.2,
                        "bin_end": 296564427.3,
                        "count": 0
                      },
                      {
                        "bin_start": 296564427.3,
                        "bin_end": 296564427.4,
                        "count": 0
                      },
                      {
                        "bin_start": 296564427.4,
                        "bin_end": 296564427.5,
                        "count": 0
                      }
                    ]
                  }
                },
                {
                  "name": "grossProfit",
                  "dtype": "int64",
                  "stats": {
                    "unique_count": 1,
                    "nan_count": 0,
                    "min": 1476178815,
                    "max": 1476178815,
                    "histogram": [
                      {
                        "bin_start": 1476178814.5,
                        "bin_end": 1476178814.6,
                        "count": 0
                      },
                      {
                        "bin_start": 1476178814.6,
                        "bin_end": 1476178814.7,
                        "count": 0
                      },
                      {
                        "bin_start": 1476178814.7,
                        "bin_end": 1476178814.8,
                        "count": 0
                      },
                      {
                        "bin_start": 1476178814.8,
                        "bin_end": 1476178814.9,
                        "count": 0
                      },
                      {
                        "bin_start": 1476178814.9,
                        "bin_end": 1476178815,
                        "count": 0
                      },
                      {
                        "bin_start": 1476178815,
                        "bin_end": 1476178815.1,
                        "count": 1
                      },
                      {
                        "bin_start": 1476178815.1,
                        "bin_end": 1476178815.2,
                        "count": 0
                      },
                      {
                        "bin_start": 1476178815.2,
                        "bin_end": 1476178815.3,
                        "count": 0
                      },
                      {
                        "bin_start": 1476178815.3,
                        "bin_end": 1476178815.4,
                        "count": 0
                      },
                      {
                        "bin_start": 1476178815.4,
                        "bin_end": 1476178815.5,
                        "count": 0
                      }
                    ]
                  }
                },
                {
                  "name": "incomeTax",
                  "dtype": "int64",
                  "stats": {
                    "unique_count": 1,
                    "nan_count": 0,
                    "min": -1261646095,
                    "max": -1261646095,
                    "histogram": [
                      {
                        "bin_start": -1261646095.5,
                        "bin_end": -1261646095.4,
                        "count": 0
                      },
                      {
                        "bin_start": -1261646095.4,
                        "bin_end": -1261646095.3,
                        "count": 0
                      },
                      {
                        "bin_start": -1261646095.3,
                        "bin_end": -1261646095.2,
                        "count": 0
                      },
                      {
                        "bin_start": -1261646095.2,
                        "bin_end": -1261646095.1,
                        "count": 0
                      },
                      {
                        "bin_start": -1261646095.1,
                        "bin_end": -1261646095,
                        "count": 0
                      },
                      {
                        "bin_start": -1261646095,
                        "bin_end": -1261646094.9,
                        "count": 1
                      },
                      {
                        "bin_start": -1261646094.9,
                        "bin_end": -1261646094.8,
                        "count": 0
                      },
                      {
                        "bin_start": -1261646094.8,
                        "bin_end": -1261646094.7,
                        "count": 0
                      },
                      {
                        "bin_start": -1261646094.7,
                        "bin_end": -1261646094.6,
                        "count": 0
                      },
                      {
                        "bin_start": -1261646094.6,
                        "bin_end": -1261646094.5,
                        "count": 0
                      }
                    ]
                  }
                },
                {
                  "name": "intangibleAssets",
                  "dtype": "int64",
                  "stats": {
                    "unique_count": 1,
                    "nan_count": 0,
                    "min": 236816489,
                    "max": 236816489,
                    "histogram": [
                      {
                        "bin_start": 236816488.5,
                        "bin_end": 236816488.6,
                        "count": 0
                      },
                      {
                        "bin_start": 236816488.6,
                        "bin_end": 236816488.7,
                        "count": 0
                      },
                      {
                        "bin_start": 236816488.7,
                        "bin_end": 236816488.8,
                        "count": 0
                      },
                      {
                        "bin_start": 236816488.8,
                        "bin_end": 236816488.9,
                        "count": 0
                      },
                      {
                        "bin_start": 236816488.9,
                        "bin_end": 236816489,
                        "count": 0
                      },
                      {
                        "bin_start": 236816489,
                        "bin_end": 236816489.1,
                        "count": 1
                      },
                      {
                        "bin_start": 236816489.1,
                        "bin_end": 236816489.2,
                        "count": 0
                      },
                      {
                        "bin_start": 236816489.2,
                        "bin_end": 236816489.3,
                        "count": 0
                      },
                      {
                        "bin_start": 236816489.3,
                        "bin_end": 236816489.4,
                        "count": 0
                      },
                      {
                        "bin_start": 236816489.4,
                        "bin_end": 236816489.5,
                        "count": 0
                      }
                    ]
                  }
                },
                {
                  "name": "interestIncome",
                  "dtype": "int64",
                  "stats": {
                    "unique_count": 1,
                    "nan_count": 0,
                    "min": 1041365,
                    "max": 1041365,
                    "histogram": [
                      {
                        "bin_start": 1041364.5,
                        "bin_end": 1041364.6,
                        "count": 0
                      },
                      {
                        "bin_start": 1041364.6,
                        "bin_end": 1041364.7,
                        "count": 0
                      },
                      {
                        "bin_start": 1041364.7,
                        "bin_end": 1041364.8,
                        "count": 0
                      },
                      {
                        "bin_start": 1041364.8,
                        "bin_end": 1041364.9,
                        "count": 0
                      },
                      {
                        "bin_start": 1041364.9,
                        "bin_end": 1041365,
                        "count": 0
                      },
                      {
                        "bin_start": 1041365,
                        "bin_end": 1041365.1,
                        "count": 1
                      },
                      {
                        "bin_start": 1041365.1,
                        "bin_end": 1041365.2,
                        "count": 0
                      },
                      {
                        "bin_start": 1041365.2,
                        "bin_end": 1041365.3,
                        "count": 0
                      },
                      {
                        "bin_start": 1041365.3,
                        "bin_end": 1041365.4,
                        "count": 0
                      },
                      {
                        "bin_start": 1041365.4,
                        "bin_end": 1041365.5,
                        "count": 0
                      }
                    ]
                  }
                },
                {
                  "name": "inventory",
                  "dtype": "int64",
                  "stats": {
                    "unique_count": 1,
                    "nan_count": 0,
                    "min": 1410709425,
                    "max": 1410709425,
                    "histogram": [
                      {
                        "bin_start": 1410709424.5,
                        "bin_end": 1410709424.6,
                        "count": 0
                      },
                      {
                        "bin_start": 1410709424.6,
                        "bin_end": 1410709424.7,
                        "count": 0
                      },
                      {
                        "bin_start": 1410709424.7,
                        "bin_end": 1410709424.8,
                        "count": 0
                      },
                      {
                        "bin_start": 1410709424.8,
                        "bin_end": 1410709424.9,
                        "count": 0
                      },
                      {
                        "bin_start": 1410709424.9,
                        "bin_end": 1410709425,
                        "count": 0
                      },
                      {
                        "bin_start": 1410709425,
                        "bin_end": 1410709425.1,
                        "count": 1
                      },
                      {
                        "bin_start": 1410709425.1,
                        "bin_end": 1410709425.2,
                        "count": 0
                      },
                      {
                        "bin_start": 1410709425.2,
                        "bin_end": 1410709425.3,
                        "count": 0
                      },
                      {
                        "bin_start": 1410709425.3,
                        "bin_end": 1410709425.4,
                        "count": 0
                      },
                      {
                        "bin_start": 1410709425.4,
                        "bin_end": 1410709425.5,
                        "count": 0
                      }
                    ]
                  }
                },
                {
                  "name": "investingActivityOther",
                  "dtype": "object",
                  "stats": {
                    "unique_count": 0,
                    "nan_count": 1,
                    "categories": [
                      {
                        "name": "Missing",
                        "count": 1
                      }
                    ]
                  }
                },
                {
                  "name": "investments",
                  "dtype": "object",
                  "stats": {
                    "unique_count": 0,
                    "nan_count": 1,
                    "categories": [
                      {
                        "name": "Missing",
                        "count": 1
                      }
                    ]
                  }
                },
                {
                  "name": "longTermDebt",
                  "dtype": "int64",
                  "stats": {
                    "unique_count": 1,
                    "nan_count": 0,
                    "min": 338695813,
                    "max": 338695813,
                    "histogram": [
                      {
                        "bin_start": 338695812.5,
                        "bin_end": 338695812.6,
                        "count": 0
                      },
                      {
                        "bin_start": 338695812.6,
                        "bin_end": 338695812.7,
                        "count": 0
                      },
                      {
                        "bin_start": 338695812.7,
                        "bin_end": 338695812.8,
                        "count": 0
                      },
                      {
                        "bin_start": 338695812.8,
                        "bin_end": 338695812.9,
                        "count": 0
                      },
                      {
                        "bin_start": 338695812.9,
                        "bin_end": 338695813,
                        "count": 0
                      },
                      {
                        "bin_start": 338695813,
                        "bin_end": 338695813.1,
                        "count": 1
                      },
                      {
                        "bin_start": 338695813.1,
                        "bin_end": 338695813.2,
                        "count": 0
                      },
                      {
                        "bin_start": 338695813.2,
                        "bin_end": 338695813.3,
                        "count": 0
                      },
                      {
                        "bin_start": 338695813.3,
                        "bin_end": 338695813.4,
                        "count": 0
                      },
                      {
                        "bin_start": 338695813.4,
                        "bin_end": 338695813.5,
                        "count": 0
                      }
                    ]
                  }
                },
                {
                  "name": "longTermInvestments",
                  "dtype": "int64",
                  "stats": {
                    "unique_count": 1,
                    "nan_count": 0,
                    "min": 2840496351,
                    "max": 2840496351,
                    "histogram": [
                      {
                        "bin_start": 2840496350.5,
                        "bin_end": 2840496350.6,
                        "count": 0
                      },
                      {
                        "bin_start": 2840496350.6,
                        "bin_end": 2840496350.7,
                        "count": 0
                      },
                      {
                        "bin_start": 2840496350.7,
                        "bin_end": 2840496350.8,
                        "count": 0
                      },
                      {
                        "bin_start": 2840496350.8,
                        "bin_end": 2840496350.9,
                        "count": 0
                      },
                      {
                        "bin_start": 2840496350.9,
                        "bin_end": 2840496351,
                        "count": 0
                      },
                      {
                        "bin_start": 2840496351,
                        "bin_end": 2840496351.1,
                        "count": 1
                      },
                      {
                        "bin_start": 2840496351.1,
                        "bin_end": 2840496351.2,
                        "count": 0
                      },
                      {
                        "bin_start": 2840496351.2,
                        "bin_end": 2840496351.3,
                        "count": 0
                      },
                      {
                        "bin_start": 2840496351.3,
                        "bin_end": 2840496351.4,
                        "count": 0
                      },
                      {
                        "bin_start": 2840496351.4,
                        "bin_end": 2840496351.5,
                        "count": 0
                      }
                    ]
                  }
                },
                {
                  "name": "minorityInterest",
                  "dtype": "int64",
                  "stats": {
                    "unique_count": 1,
                    "nan_count": 0,
                    "min": 0,
                    "max": 0,
                    "histogram": [
                      {
                        "bin_start": -0.5,
                        "bin_end": -0.4,
                        "count": 0
                      },
                      {
                        "bin_start": -0.4,
                        "bin_end": -0.3,
                        "count": 0
                      },
                      {
                        "bin_start": -0.3,
                        "bin_end": -0.19999999999999996,
                        "count": 0
                      },
                      {
                        "bin_start": -0.19999999999999996,
                        "bin_end": -0.09999999999999998,
                        "count": 0
                      },
                      {
                        "bin_start": -0.09999999999999998,
                        "bin_end": 0,
                        "count": 0
                      },
                      {
                        "bin_start": 0,
                        "bin_end": 0.10000000000000009,
                        "count": 1
                      },
                      {
                        "bin_start": 0.10000000000000009,
                        "bin_end": 0.20000000000000007,
                        "count": 0
                      },
                      {
                        "bin_start": 0.20000000000000007,
                        "bin_end": 0.30000000000000004,
                        "count": 0
                      },
                      {
                        "bin_start": 0.30000000000000004,
                        "bin_end": 0.4,
                        "count": 0
                      },
                      {
                        "bin_start": 0.4,
                        "bin_end": 0.5,
                        "count": 0
                      }
                    ]
                  }
                },
                {
                  "name": "netBorrowings",
                  "dtype": "int64",
                  "stats": {
                    "unique_count": 1,
                    "nan_count": 0,
                    "min": -2440085976,
                    "max": -2440085976,
                    "histogram": [
                      {
                        "bin_start": -2440085976.5,
                        "bin_end": -2440085976.4,
                        "count": 0
                      },
                      {
                        "bin_start": -2440085976.4,
                        "bin_end": -2440085976.3,
                        "count": 0
                      },
                      {
                        "bin_start": -2440085976.3,
                        "bin_end": -2440085976.2,
                        "count": 0
                      },
                      {
                        "bin_start": -2440085976.2,
                        "bin_end": -2440085976.1,
                        "count": 0
                      },
                      {
                        "bin_start": -2440085976.1,
                        "bin_end": -2440085976,
                        "count": 0
                      },
                      {
                        "bin_start": -2440085976,
                        "bin_end": -2440085975.9,
                        "count": 1
                      },
                      {
                        "bin_start": -2440085975.9,
                        "bin_end": -2440085975.8,
                        "count": 0
                      },
                      {
                        "bin_start": -2440085975.8,
                        "bin_end": -2440085975.7,
                        "count": 0
                      },
                      {
                        "bin_start": -2440085975.7,
                        "bin_end": -2440085975.6,
                        "count": 0
                      },
                      {
                        "bin_start": -2440085975.6,
                        "bin_end": -2440085975.5,
                        "count": 0
                      }
                    ]
                  }
                },
                {
                  "name": "netIncome",
                  "dtype": "int64",
                  "stats": {
                    "unique_count": 1,
                    "nan_count": 0,
                    "min": 1783304856,
                    "max": 1783304856,
                    "histogram": [
                      {
                        "bin_start": 1783304855.5,
                        "bin_end": 1783304855.6,
                        "count": 0
                      },
                      {
                        "bin_start": 1783304855.6,
                        "bin_end": 1783304855.7,
                        "count": 0
                      },
                      {
                        "bin_start": 1783304855.7,
                        "bin_end": 1783304855.8,
                        "count": 0
                      },
                      {
                        "bin_start": 1783304855.8,
                        "bin_end": 1783304855.9,
                        "count": 0
                      },
                      {
                        "bin_start": 1783304855.9,
                        "bin_end": 1783304856,
                        "count": 0
                      },
                      {
                        "bin_start": 1783304856,
                        "bin_end": 1783304856.1,
                        "count": 1
                      },
                      {
                        "bin_start": 1783304856.1,
                        "bin_end": 1783304856.2,
                        "count": 0
                      },
                      {
                        "bin_start": 1783304856.2,
                        "bin_end": 1783304856.3,
                        "count": 0
                      },
                      {
                        "bin_start": 1783304856.3,
                        "bin_end": 1783304856.4,
                        "count": 0
                      },
                      {
                        "bin_start": 1783304856.4,
                        "bin_end": 1783304856.5,
                        "count": 0
                      }
                    ]
                  }
                },
                {
                  "name": "netIncomeBasic",
                  "dtype": "int64",
                  "stats": {
                    "unique_count": 1,
                    "nan_count": 0,
                    "min": 1840204462,
                    "max": 1840204462,
                    "histogram": [
                      {
                        "bin_start": 1840204461.5,
                        "bin_end": 1840204461.6,
                        "count": 0
                      },
                      {
                        "bin_start": 1840204461.6,
                        "bin_end": 1840204461.7,
                        "count": 0
                      },
                      {
                        "bin_start": 1840204461.7,
                        "bin_end": 1840204461.8,
                        "count": 0
                      },
                      {
                        "bin_start": 1840204461.8,
                        "bin_end": 1840204461.9,
                        "count": 0
                      },
                      {
                        "bin_start": 1840204461.9,
                        "bin_end": 1840204462,
                        "count": 0
                      },
                      {
                        "bin_start": 1840204462,
                        "bin_end": 1840204462.1,
                        "count": 1
                      },
                      {
                        "bin_start": 1840204462.1,
                        "bin_end": 1840204462.2,
                        "count": 0
                      },
                      {
                        "bin_start": 1840204462.2,
                        "bin_end": 1840204462.3,
                        "count": 0
                      },
                      {
                        "bin_start": 1840204462.3,
                        "bin_end": 1840204462.4,
                        "count": 0
                      },
                      {
                        "bin_start": 1840204462.4,
                        "bin_end": 1840204462.5,
                        "count": 0
                      }
                    ]
                  }
                },
                {
                  "name": "netTangibleAssets",
                  "dtype": "int64",
                  "stats": {
                    "unique_count": 1,
                    "nan_count": 0,
                    "min": 5343822253,
                    "max": 5343822253,
                    "histogram": [
                      {
                        "bin_start": 5343822252.5,
                        "bin_end": 5343822252.6,
                        "count": 0
                      },
                      {
                        "bin_start": 5343822252.6,
                        "bin_end": 5343822252.7,
                        "count": 0
                      },
                      {
                        "bin_start": 5343822252.7,
                        "bin_end": 5343822252.8,
                        "count": 0
                      },
                      {
                        "bin_start": 5343822252.8,
                        "bin_end": 5343822252.9,
                        "count": 0
                      },
                      {
                        "bin_start": 5343822252.9,
                        "bin_end": 5343822253,
                        "count": 0
                      },
                      {
                        "bin_start": 5343822253,
                        "bin_end": 5343822253.1,
                        "count": 1
                      },
                      {
                        "bin_start": 5343822253.1,
                        "bin_end": 5343822253.2,
                        "count": 0
                      },
                      {
                        "bin_start": 5343822253.2,
                        "bin_end": 5343822253.3,
                        "count": 0
                      },
                      {
                        "bin_start": 5343822253.3,
                        "bin_end": 5343822253.4,
                        "count": 0
                      },
                      {
                        "bin_start": 5343822253.4,
                        "bin_end": 5343822253.5,
                        "count": 0
                      }
                    ]
                  }
                },
                {
                  "name": "operatingExpense",
                  "dtype": "int64",
                  "stats": {
                    "unique_count": 1,
                    "nan_count": 0,
                    "min": 2785235795,
                    "max": 2785235795,
                    "histogram": [
                      {
                        "bin_start": 2785235794.5,
                        "bin_end": 2785235794.6,
                        "count": 0
                      },
                      {
                        "bin_start": 2785235794.6,
                        "bin_end": 2785235794.7,
                        "count": 0
                      },
                      {
                        "bin_start": 2785235794.7,
                        "bin_end": 2785235794.8,
                        "count": 0
                      },
                      {
                        "bin_start": 2785235794.8,
                        "bin_end": 2785235794.9,
                        "count": 0
                      },
                      {
                        "bin_start": 2785235794.9,
                        "bin_end": 2785235795,
                        "count": 0
                      },
                      {
                        "bin_start": 2785235795,
                        "bin_end": 2785235795.1,
                        "count": 1
                      },
                      {
                        "bin_start": 2785235795.1,
                        "bin_end": 2785235795.2,
                        "count": 0
                      },
                      {
                        "bin_start": 2785235795.2,
                        "bin_end": 2785235795.3,
                        "count": 0
                      },
                      {
                        "bin_start": 2785235795.3,
                        "bin_end": 2785235795.4,
                        "count": 0
                      },
                      {
                        "bin_start": 2785235795.4,
                        "bin_end": 2785235795.5,
                        "count": 0
                      }
                    ]
                  }
                },
                {
                  "name": "operatingIncome",
                  "dtype": "int64",
                  "stats": {
                    "unique_count": 1,
                    "nan_count": 0,
                    "min": 581428754,
                    "max": 581428754,
                    "histogram": [
                      {
                        "bin_start": 581428753.5,
                        "bin_end": 581428753.6,
                        "count": 0
                      },
                      {
                        "bin_start": 581428753.6,
                        "bin_end": 581428753.7,
                        "count": 0
                      },
                      {
                        "bin_start": 581428753.7,
                        "bin_end": 581428753.8,
                        "count": 0
                      },
                      {
                        "bin_start": 581428753.8,
                        "bin_end": 581428753.9,
                        "count": 0
                      },
                      {
                        "bin_start": 581428753.9,
                        "bin_end": 581428754,
                        "count": 0
                      },
                      {
                        "bin_start": 581428754,
                        "bin_end": 581428754.1,
                        "count": 1
                      },
                      {
                        "bin_start": 581428754.1,
                        "bin_end": 581428754.2,
                        "count": 0
                      },
                      {
                        "bin_start": 581428754.2,
                        "bin_end": 581428754.3,
                        "count": 0
                      },
                      {
                        "bin_start": 581428754.3,
                        "bin_end": 581428754.4,
                        "count": 0
                      },
                      {
                        "bin_start": 581428754.4,
                        "bin_end": 581428754.5,
                        "count": 0
                      }
                    ]
                  }
                },
                {
                  "name": "operatingRevenue",
                  "dtype": "int64",
                  "stats": {
                    "unique_count": 1,
                    "nan_count": 0,
                    "min": 3341721881,
                    "max": 3341721881,
                    "histogram": [
                      {
                        "bin_start": 3341721880.5,
                        "bin_end": 3341721880.6,
                        "count": 0
                      },
                      {
                        "bin_start": 3341721880.6,
                        "bin_end": 3341721880.7,
                        "count": 0
                      },
                      {
                        "bin_start": 3341721880.7,
                        "bin_end": 3341721880.8,
                        "count": 0
                      },
                      {
                        "bin_start": 3341721880.8,
                        "bin_end": 3341721880.9,
                        "count": 0
                      },
                      {
                        "bin_start": 3341721880.9,
                        "bin_end": 3341721881,
                        "count": 0
                      },
                      {
                        "bin_start": 3341721881,
                        "bin_end": 3341721881.1,
                        "count": 1
                      },
                      {
                        "bin_start": 3341721881.1,
                        "bin_end": 3341721881.2,
                        "count": 0
                      },
                      {
                        "bin_start": 3341721881.2,
                        "bin_end": 3341721881.3,
                        "count": 0
                      },
                      {
                        "bin_start": 3341721881.3,
                        "bin_end": 3341721881.4,
                        "count": 0
                      },
                      {
                        "bin_start": 3341721881.4,
                        "bin_end": 3341721881.5,
                        "count": 0
                      }
                    ]
                  }
                },
                {
                  "name": "otherAssets",
                  "dtype": "int64",
                  "stats": {
                    "unique_count": 1,
                    "nan_count": 0,
                    "min": 148598809,
                    "max": 148598809,
                    "histogram": [
                      {
                        "bin_start": 148598808.5,
                        "bin_end": 148598808.6,
                        "count": 0
                      },
                      {
                        "bin_start": 148598808.6,
                        "bin_end": 148598808.7,
                        "count": 0
                      },
                      {
                        "bin_start": 148598808.7,
                        "bin_end": 148598808.8,
                        "count": 0
                      },
                      {
                        "bin_start": 148598808.8,
                        "bin_end": 148598808.9,
                        "count": 0
                      },
                      {
                        "bin_start": 148598808.9,
                        "bin_end": 148598809,
                        "count": 0
                      },
                      {
                        "bin_start": 148598809,
                        "bin_end": 148598809.1,
                        "count": 1
                      },
                      {
                        "bin_start": 148598809.1,
                        "bin_end": 148598809.2,
                        "count": 0
                      },
                      {
                        "bin_start": 148598809.2,
                        "bin_end": 148598809.3,
                        "count": 0
                      },
                      {
                        "bin_start": 148598809.3,
                        "bin_end": 148598809.4,
                        "count": 0
                      },
                      {
                        "bin_start": 148598809.4,
                        "bin_end": 148598809.5,
                        "count": 0
                      }
                    ]
                  }
                },
                {
                  "name": "otherCurrentAssets",
                  "dtype": "int64",
                  "stats": {
                    "unique_count": 1,
                    "nan_count": 0,
                    "min": 395460865,
                    "max": 395460865,
                    "histogram": [
                      {
                        "bin_start": 395460864.5,
                        "bin_end": 395460864.6,
                        "count": 0
                      },
                      {
                        "bin_start": 395460864.6,
                        "bin_end": 395460864.7,
                        "count": 0
                      },
                      {
                        "bin_start": 395460864.7,
                        "bin_end": 395460864.8,
                        "count": 0
                      },
                      {
                        "bin_start": 395460864.8,
                        "bin_end": 395460864.9,
                        "count": 0
                      },
                      {
                        "bin_start": 395460864.9,
                        "bin_end": 395460865,
                        "count": 0
                      },
                      {
                        "bin_start": 395460865,
                        "bin_end": 395460865.1,
                        "count": 1
                      },
                      {
                        "bin_start": 395460865.1,
                        "bin_end": 395460865.2,
                        "count": 0
                      },
                      {
                        "bin_start": 395460865.2,
                        "bin_end": 395460865.3,
                        "count": 0
                      },
                      {
                        "bin_start": 395460865.3,
                        "bin_end": 395460865.4,
                        "count": 0
                      },
                      {
                        "bin_start": 395460865.4,
                        "bin_end": 395460865.5,
                        "count": 0
                      }
                    ]
                  }
                },
                {
                  "name": "otherCurrentLiabilities",
                  "dtype": "int64",
                  "stats": {
                    "unique_count": 1,
                    "nan_count": 0,
                    "min": 1927161193,
                    "max": 1927161193,
                    "histogram": [
                      {
                        "bin_start": 1927161192.5,
                        "bin_end": 1927161192.6,
                        "count": 0
                      },
                      {
                        "bin_start": 1927161192.6,
                        "bin_end": 1927161192.7,
                        "count": 0
                      },
                      {
                        "bin_start": 1927161192.7,
                        "bin_end": 1927161192.8,
                        "count": 0
                      },
                      {
                        "bin_start": 1927161192.8,
                        "bin_end": 1927161192.9,
                        "count": 0
                      },
                      {
                        "bin_start": 1927161192.9,
                        "bin_end": 1927161193,
                        "count": 0
                      },
                      {
                        "bin_start": 1927161193,
                        "bin_end": 1927161193.1,
                        "count": 1
                      },
                      {
                        "bin_start": 1927161193.1,
                        "bin_end": 1927161193.2,
                        "count": 0
                      },
                      {
                        "bin_start": 1927161193.2,
                        "bin_end": 1927161193.3,
                        "count": 0
                      },
                      {
                        "bin_start": 1927161193.3,
                        "bin_end": 1927161193.4,
                        "count": 0
                      },
                      {
                        "bin_start": 1927161193.4,
                        "bin_end": 1927161193.5,
                        "count": 0
                      }
                    ]
                  }
                },
                {
                  "name": "otherIncomeExpenseNet",
                  "dtype": "int64",
                  "stats": {
                    "unique_count": 1,
                    "nan_count": 0,
                    "min": 0,
                    "max": 0,
                    "histogram": [
                      {
                        "bin_start": -0.5,
                        "bin_end": -0.4,
                        "count": 0
                      },
                      {
                        "bin_start": -0.4,
                        "bin_end": -0.3,
                        "count": 0
                      },
                      {
                        "bin_start": -0.3,
                        "bin_end": -0.19999999999999996,
                        "count": 0
                      },
                      {
                        "bin_start": -0.19999999999999996,
                        "bin_end": -0.09999999999999998,
                        "count": 0
                      },
                      {
                        "bin_start": -0.09999999999999998,
                        "bin_end": 0,
                        "count": 0
                      },
                      {
                        "bin_start": 0,
                        "bin_end": 0.10000000000000009,
                        "count": 1
                      },
                      {
                        "bin_start": 0.10000000000000009,
                        "bin_end": 0.20000000000000007,
                        "count": 0
                      },
                      {
                        "bin_start": 0.20000000000000007,
                        "bin_end": 0.30000000000000004,
                        "count": 0
                      },
                      {
                        "bin_start": 0.30000000000000004,
                        "bin_end": 0.4,
                        "count": 0
                      },
                      {
                        "bin_start": 0.4,
                        "bin_end": 0.5,
                        "count": 0
                      }
                    ]
                  }
                },
                {
                  "name": "otherLiabilities",
                  "dtype": "int64",
                  "stats": {
                    "unique_count": 1,
                    "nan_count": 0,
                    "min": 181654310,
                    "max": 181654310,
                    "histogram": [
                      {
                        "bin_start": 181654309.5,
                        "bin_end": 181654309.6,
                        "count": 0
                      },
                      {
                        "bin_start": 181654309.6,
                        "bin_end": 181654309.7,
                        "count": 0
                      },
                      {
                        "bin_start": 181654309.7,
                        "bin_end": 181654309.8,
                        "count": 0
                      },
                      {
                        "bin_start": 181654309.8,
                        "bin_end": 181654309.9,
                        "count": 0
                      },
                      {
                        "bin_start": 181654309.9,
                        "bin_end": 181654310,
                        "count": 0
                      },
                      {
                        "bin_start": 181654310,
                        "bin_end": 181654310.1,
                        "count": 1
                      },
                      {
                        "bin_start": 181654310.1,
                        "bin_end": 181654310.2,
                        "count": 0
                      },
                      {
                        "bin_start": 181654310.2,
                        "bin_end": 181654310.3,
                        "count": 0
                      },
                      {
                        "bin_start": 181654310.3,
                        "bin_end": 181654310.4,
                        "count": 0
                      },
                      {
                        "bin_start": 181654310.4,
                        "bin_end": 181654310.5,
                        "count": 0
                      }
                    ]
                  }
                },
                {
                  "name": "pretaxIncome",
                  "dtype": "int64",
                  "stats": {
                    "unique_count": 1,
                    "nan_count": 0,
                    "min": 550856926,
                    "max": 550856926,
                    "histogram": [
                      {
                        "bin_start": 550856925.5,
                        "bin_end": 550856925.6,
                        "count": 0
                      },
                      {
                        "bin_start": 550856925.6,
                        "bin_end": 550856925.7,
                        "count": 0
                      },
                      {
                        "bin_start": 550856925.7,
                        "bin_end": 550856925.8,
                        "count": 0
                      },
                      {
                        "bin_start": 550856925.8,
                        "bin_end": 550856925.9,
                        "count": 0
                      },
                      {
                        "bin_start": 550856925.9,
                        "bin_end": 550856926,
                        "count": 0
                      },
                      {
                        "bin_start": 550856926,
                        "bin_end": 550856926.1,
                        "count": 1
                      },
                      {
                        "bin_start": 550856926.1,
                        "bin_end": 550856926.2,
                        "count": 0
                      },
                      {
                        "bin_start": 550856926.2,
                        "bin_end": 550856926.3,
                        "count": 0
                      },
                      {
                        "bin_start": 550856926.3,
                        "bin_end": 550856926.4,
                        "count": 0
                      },
                      {
                        "bin_start": 550856926.4,
                        "bin_end": 550856926.5,
                        "count": 0
                      }
                    ]
                  }
                },
                {
                  "name": "propertyPlantEquipment",
                  "dtype": "int64",
                  "stats": {
                    "unique_count": 1,
                    "nan_count": 0,
                    "min": 666212892,
                    "max": 666212892,
                    "histogram": [
                      {
                        "bin_start": 666212891.5,
                        "bin_end": 666212891.6,
                        "count": 0
                      },
                      {
                        "bin_start": 666212891.6,
                        "bin_end": 666212891.7,
                        "count": 0
                      },
                      {
                        "bin_start": 666212891.7,
                        "bin_end": 666212891.8,
                        "count": 0
                      },
                      {
                        "bin_start": 666212891.8,
                        "bin_end": 666212891.9,
                        "count": 0
                      },
                      {
                        "bin_start": 666212891.9,
                        "bin_end": 666212892,
                        "count": 0
                      },
                      {
                        "bin_start": 666212892,
                        "bin_end": 666212892.1,
                        "count": 1
                      },
                      {
                        "bin_start": 666212892.1,
                        "bin_end": 666212892.2,
                        "count": 0
                      },
                      {
                        "bin_start": 666212892.2,
                        "bin_end": 666212892.3,
                        "count": 0
                      },
                      {
                        "bin_start": 666212892.3,
                        "bin_end": 666212892.4,
                        "count": 0
                      },
                      {
                        "bin_start": 666212892.4,
                        "bin_end": 666212892.5,
                        "count": 0
                      }
                    ]
                  }
                },
                {
                  "name": "receivables",
                  "dtype": "int64",
                  "stats": {
                    "unique_count": 1,
                    "nan_count": 0,
                    "min": 2123701189,
                    "max": 2123701189,
                    "histogram": [
                      {
                        "bin_start": 2123701188.5,
                        "bin_end": 2123701188.6,
                        "count": 0
                      },
                      {
                        "bin_start": 2123701188.6,
                        "bin_end": 2123701188.7,
                        "count": 0
                      },
                      {
                        "bin_start": 2123701188.7,
                        "bin_end": 2123701188.8,
                        "count": 0
                      },
                      {
                        "bin_start": 2123701188.8,
                        "bin_end": 2123701188.9,
                        "count": 0
                      },
                      {
                        "bin_start": 2123701188.9,
                        "bin_end": 2123701189,
                        "count": 0
                      },
                      {
                        "bin_start": 2123701189,
                        "bin_end": 2123701189.1,
                        "count": 1
                      },
                      {
                        "bin_start": 2123701189.1,
                        "bin_end": 2123701189.2,
                        "count": 0
                      },
                      {
                        "bin_start": 2123701189.2,
                        "bin_end": 2123701189.3,
                        "count": 0
                      },
                      {
                        "bin_start": 2123701189.3,
                        "bin_end": 2123701189.4,
                        "count": 0
                      },
                      {
                        "bin_start": 2123701189.4,
                        "bin_end": 2123701189.5,
                        "count": 0
                      }
                    ]
                  }
                },
                {
                  "name": "researchAndDevelopment",
                  "dtype": "int64",
                  "stats": {
                    "unique_count": 1,
                    "nan_count": 0,
                    "min": 598123471,
                    "max": 598123471,
                    "histogram": [
                      {
                        "bin_start": 598123470.5,
                        "bin_end": 598123470.6,
                        "count": 0
                      },
                      {
                        "bin_start": 598123470.6,
                        "bin_end": 598123470.7,
                        "count": 0
                      },
                      {
                        "bin_start": 598123470.7,
                        "bin_end": 598123470.8,
                        "count": 0
                      },
                      {
                        "bin_start": 598123470.8,
                        "bin_end": 598123470.9,
                        "count": 0
                      },
                      {
                        "bin_start": 598123470.9,
                        "bin_end": 598123471,
                        "count": 0
                      },
                      {
                        "bin_start": 598123471,
                        "bin_end": 598123471.1,
                        "count": 1
                      },
                      {
                        "bin_start": 598123471.1,
                        "bin_end": 598123471.2,
                        "count": 0
                      },
                      {
                        "bin_start": 598123471.2,
                        "bin_end": 598123471.3,
                        "count": 0
                      },
                      {
                        "bin_start": 598123471.3,
                        "bin_end": 598123471.4,
                        "count": 0
                      },
                      {
                        "bin_start": 598123471.4,
                        "bin_end": 598123471.5,
                        "count": 0
                      }
                    ]
                  }
                },
                {
                  "name": "retainedEarnings",
                  "dtype": "int64",
                  "stats": {
                    "unique_count": 1,
                    "nan_count": 0,
                    "min": -4749322223,
                    "max": -4749322223,
                    "histogram": [
                      {
                        "bin_start": -4749322223.5,
                        "bin_end": -4749322223.4,
                        "count": 0
                      },
                      {
                        "bin_start": -4749322223.4,
                        "bin_end": -4749322223.3,
                        "count": 0
                      },
                      {
                        "bin_start": -4749322223.3,
                        "bin_end": -4749322223.2,
                        "count": 0
                      },
                      {
                        "bin_start": -4749322223.2,
                        "bin_end": -4749322223.1,
                        "count": 0
                      },
                      {
                        "bin_start": -4749322223.1,
                        "bin_end": -4749322223,
                        "count": 0
                      },
                      {
                        "bin_start": -4749322223,
                        "bin_end": -4749322222.9,
                        "count": 1
                      },
                      {
                        "bin_start": -4749322222.9,
                        "bin_end": -4749322222.8,
                        "count": 0
                      },
                      {
                        "bin_start": -4749322222.8,
                        "bin_end": -4749322222.7,
                        "count": 0
                      },
                      {
                        "bin_start": -4749322222.7,
                        "bin_end": -4749322222.6,
                        "count": 0
                      },
                      {
                        "bin_start": -4749322222.6,
                        "bin_end": -4749322222.5,
                        "count": 0
                      }
                    ]
                  }
                },
                {
                  "name": "revenue",
                  "dtype": "int64",
                  "stats": {
                    "unique_count": 1,
                    "nan_count": 0,
                    "min": 3275828601,
                    "max": 3275828601,
                    "histogram": [
                      {
                        "bin_start": 3275828600.5,
                        "bin_end": 3275828600.6,
                        "count": 0
                      },
                      {
                        "bin_start": 3275828600.6,
                        "bin_end": 3275828600.7,
                        "count": 0
                      },
                      {
                        "bin_start": 3275828600.7,
                        "bin_end": 3275828600.8,
                        "count": 0
                      },
                      {
                        "bin_start": 3275828600.8,
                        "bin_end": 3275828600.9,
                        "count": 0
                      },
                      {
                        "bin_start": 3275828600.9,
                        "bin_end": 3275828601,
                        "count": 0
                      },
                      {
                        "bin_start": 3275828601,
                        "bin_end": 3275828601.1,
                        "count": 1
                      },
                      {
                        "bin_start": 3275828601.1,
                        "bin_end": 3275828601.2,
                        "count": 0
                      },
                      {
                        "bin_start": 3275828601.2,
                        "bin_end": 3275828601.3,
                        "count": 0
                      },
                      {
                        "bin_start": 3275828601.3,
                        "bin_end": 3275828601.4,
                        "count": 0
                      },
                      {
                        "bin_start": 3275828601.4,
                        "bin_end": 3275828601.5,
                        "count": 0
                      }
                    ]
                  }
                },
                {
                  "name": "sellingGeneralAndAdmin",
                  "dtype": "int64",
                  "stats": {
                    "unique_count": 1,
                    "nan_count": 0,
                    "min": 323345354,
                    "max": 323345354,
                    "histogram": [
                      {
                        "bin_start": 323345353.5,
                        "bin_end": 323345353.6,
                        "count": 0
                      },
                      {
                        "bin_start": 323345353.6,
                        "bin_end": 323345353.7,
                        "count": 0
                      },
                      {
                        "bin_start": 323345353.7,
                        "bin_end": 323345353.8,
                        "count": 0
                      },
                      {
                        "bin_start": 323345353.8,
                        "bin_end": 323345353.9,
                        "count": 0
                      },
                      {
                        "bin_start": 323345353.9,
                        "bin_end": 323345354,
                        "count": 0
                      },
                      {
                        "bin_start": 323345354,
                        "bin_end": 323345354.1,
                        "count": 1
                      },
                      {
                        "bin_start": 323345354.1,
                        "bin_end": 323345354.2,
                        "count": 0
                      },
                      {
                        "bin_start": 323345354.2,
                        "bin_end": 323345354.3,
                        "count": 0
                      },
                      {
                        "bin_start": 323345354.3,
                        "bin_end": 323345354.4,
                        "count": 0
                      },
                      {
                        "bin_start": 323345354.4,
                        "bin_end": 323345354.5,
                        "count": 0
                      }
                    ]
                  }
                },
                {
                  "name": "shareholderEquity",
                  "dtype": "int64",
                  "stats": {
                    "unique_count": 1,
                    "nan_count": 0,
                    "min": 6127515172,
                    "max": 6127515172,
                    "histogram": [
                      {
                        "bin_start": 6127515171.5,
                        "bin_end": 6127515171.6,
                        "count": 0
                      },
                      {
                        "bin_start": 6127515171.6,
                        "bin_end": 6127515171.7,
                        "count": 0
                      },
                      {
                        "bin_start": 6127515171.7,
                        "bin_end": 6127515171.8,
                        "count": 0
                      },
                      {
                        "bin_start": 6127515171.8,
                        "bin_end": 6127515171.9,
                        "count": 0
                      },
                      {
                        "bin_start": 6127515171.9,
                        "bin_end": 6127515172,
                        "count": 0
                      },
                      {
                        "bin_start": 6127515172,
                        "bin_end": 6127515172.1,
                        "count": 1
                      },
                      {
                        "bin_start": 6127515172.1,
                        "bin_end": 6127515172.2,
                        "count": 0
                      },
                      {
                        "bin_start": 6127515172.2,
                        "bin_end": 6127515172.3,
                        "count": 0
                      },
                      {
                        "bin_start": 6127515172.3,
                        "bin_end": 6127515172.4,
                        "count": 0
                      },
                      {
                        "bin_start": 6127515172.4,
                        "bin_end": 6127515172.5,
                        "count": 0
                      }
                    ]
                  }
                },
                {
                  "name": "shortTermDebt",
                  "dtype": "int64",
                  "stats": {
                    "unique_count": 1,
                    "nan_count": 0,
                    "min": 0,
                    "max": 0,
                    "histogram": [
                      {
                        "bin_start": -0.5,
                        "bin_end": -0.4,
                        "count": 0
                      },
                      {
                        "bin_start": -0.4,
                        "bin_end": -0.3,
                        "count": 0
                      },
                      {
                        "bin_start": -0.3,
                        "bin_end": -0.19999999999999996,
                        "count": 0
                      },
                      {
                        "bin_start": -0.19999999999999996,
                        "bin_end": -0.09999999999999998,
                        "count": 0
                      },
                      {
                        "bin_start": -0.09999999999999998,
                        "bin_end": 0,
                        "count": 0
                      },
                      {
                        "bin_start": 0,
                        "bin_end": 0.10000000000000009,
                        "count": 1
                      },
                      {
                        "bin_start": 0.10000000000000009,
                        "bin_end": 0.20000000000000007,
                        "count": 0
                      },
                      {
                        "bin_start": 0.20000000000000007,
                        "bin_end": 0.30000000000000004,
                        "count": 0
                      },
                      {
                        "bin_start": 0.30000000000000004,
                        "bin_end": 0.4,
                        "count": 0
                      },
                      {
                        "bin_start": 0.4,
                        "bin_end": 0.5,
                        "count": 0
                      }
                    ]
                  }
                },
                {
                  "name": "shortTermInvestments",
                  "dtype": "int64",
                  "stats": {
                    "unique_count": 1,
                    "nan_count": 0,
                    "min": 379835029,
                    "max": 379835029,
                    "histogram": [
                      {
                        "bin_start": 379835028.5,
                        "bin_end": 379835028.6,
                        "count": 0
                      },
                      {
                        "bin_start": 379835028.6,
                        "bin_end": 379835028.7,
                        "count": 0
                      },
                      {
                        "bin_start": 379835028.7,
                        "bin_end": 379835028.8,
                        "count": 0
                      },
                      {
                        "bin_start": 379835028.8,
                        "bin_end": 379835028.9,
                        "count": 0
                      },
                      {
                        "bin_start": 379835028.9,
                        "bin_end": 379835029,
                        "count": 0
                      },
                      {
                        "bin_start": 379835029,
                        "bin_end": 379835029.1,
                        "count": 1
                      },
                      {
                        "bin_start": 379835029.1,
                        "bin_end": 379835029.2,
                        "count": 0
                      },
                      {
                        "bin_start": 379835029.2,
                        "bin_end": 379835029.3,
                        "count": 0
                      },
                      {
                        "bin_start": 379835029.3,
                        "bin_end": 379835029.4,
                        "count": 0
                      },
                      {
                        "bin_start": 379835029.4,
                        "bin_end": 379835029.5,
                        "count": 0
                      }
                    ]
                  }
                },
                {
                  "name": "symbol",
                  "dtype": "object",
                  "stats": {
                    "unique_count": 1,
                    "nan_count": 0,
                    "categories": [
                      {
                        "name": "AMD",
                        "count": 1
                      }
                    ]
                  }
                },
                {
                  "name": "totalAssets",
                  "dtype": "int64",
                  "stats": {
                    "unique_count": 1,
                    "nan_count": 0,
                    "min": 9180303597,
                    "max": 9180303597,
                    "histogram": [
                      {
                        "bin_start": 9180303596.5,
                        "bin_end": 9180303596.6,
                        "count": 0
                      },
                      {
                        "bin_start": 9180303596.6,
                        "bin_end": 9180303596.7,
                        "count": 0
                      },
                      {
                        "bin_start": 9180303596.7,
                        "bin_end": 9180303596.8,
                        "count": 0
                      },
                      {
                        "bin_start": 9180303596.8,
                        "bin_end": 9180303596.9,
                        "count": 0
                      },
                      {
                        "bin_start": 9180303596.9,
                        "bin_end": 9180303597,
                        "count": 0
                      },
                      {
                        "bin_start": 9180303597,
                        "bin_end": 9180303597.1,
                        "count": 1
                      },
                      {
                        "bin_start": 9180303597.1,
                        "bin_end": 9180303597.2,
                        "count": 0
                      },
                      {
                        "bin_start": 9180303597.2,
                        "bin_end": 9180303597.3,
                        "count": 0
                      },
                      {
                        "bin_start": 9180303597.3,
                        "bin_end": 9180303597.4,
                        "count": 0
                      },
                      {
                        "bin_start": 9180303597.4,
                        "bin_end": 9180303597.5,
                        "count": 0
                      }
                    ]
                  }
                },
                {
                  "name": "totalCash",
                  "dtype": "int64",
                  "stats": {
                    "unique_count": 1,
                    "nan_count": 0,
                    "min": 2386420735,
                    "max": 2386420735,
                    "histogram": [
                      {
                        "bin_start": 2386420734.5,
                        "bin_end": 2386420734.6,
                        "count": 0
                      },
                      {
                        "bin_start": 2386420734.6,
                        "bin_end": 2386420734.7,
                        "count": 0
                      },
                      {
                        "bin_start": 2386420734.7,
                        "bin_end": 2386420734.8,
                        "count": 0
                      },
                      {
                        "bin_start": 2386420734.8,
                        "bin_end": 2386420734.9,
                        "count": 0
                      },
                      {
                        "bin_start": 2386420734.9,
                        "bin_end": 2386420735,
                        "count": 0
                      },
                      {
                        "bin_start": 2386420735,
                        "bin_end": 2386420735.1,
                        "count": 1
                      },
                      {
                        "bin_start": 2386420735.1,
                        "bin_end": 2386420735.2,
                        "count": 0
                      },
                      {
                        "bin_start": 2386420735.2,
                        "bin_end": 2386420735.3,
                        "count": 0
                      },
                      {
                        "bin_start": 2386420735.3,
                        "bin_end": 2386420735.4,
                        "count": 0
                      },
                      {
                        "bin_start": 2386420735.4,
                        "bin_end": 2386420735.5,
                        "count": 0
                      }
                    ]
                  }
                },
                {
                  "name": "totalDebt",
                  "dtype": "int64",
                  "stats": {
                    "unique_count": 1,
                    "nan_count": 0,
                    "min": 332978584,
                    "max": 332978584,
                    "histogram": [
                      {
                        "bin_start": 332978583.5,
                        "bin_end": 332978583.6,
                        "count": 0
                      },
                      {
                        "bin_start": 332978583.6,
                        "bin_end": 332978583.7,
                        "count": 0
                      },
                      {
                        "bin_start": 332978583.7,
                        "bin_end": 332978583.8,
                        "count": 0
                      },
                      {
                        "bin_start": 332978583.8,
                        "bin_end": 332978583.9,
                        "count": 0
                      },
                      {
                        "bin_start": 332978583.9,
                        "bin_end": 332978584,
                        "count": 0
                      },
                      {
                        "bin_start": 332978584,
                        "bin_end": 332978584.1,
                        "count": 1
                      },
                      {
                        "bin_start": 332978584.1,
                        "bin_end": 332978584.2,
                        "count": 0
                      },
                      {
                        "bin_start": 332978584.2,
                        "bin_end": 332978584.3,
                        "count": 0
                      },
                      {
                        "bin_start": 332978584.3,
                        "bin_end": 332978584.4,
                        "count": 0
                      },
                      {
                        "bin_start": 332978584.4,
                        "bin_end": 332978584.5,
                        "count": 0
                      }
                    ]
                  }
                },
                {
                  "name": "totalInvestingCashFlows",
                  "dtype": "int64",
                  "stats": {
                    "unique_count": 1,
                    "nan_count": 0,
                    "min": -982702654,
                    "max": -982702654,
                    "histogram": [
                      {
                        "bin_start": -982702654.5,
                        "bin_end": -982702654.4,
                        "count": 0
                      },
                      {
                        "bin_start": -982702654.4,
                        "bin_end": -982702654.3,
                        "count": 0
                      },
                      {
                        "bin_start": -982702654.3,
                        "bin_end": -982702654.2,
                        "count": 0
                      },
                      {
                        "bin_start": -982702654.2,
                        "bin_end": -982702654.1,
                        "count": 0
                      },
                      {
                        "bin_start": -982702654.1,
                        "bin_end": -982702654,
                        "count": 0
                      },
                      {
                        "bin_start": -982702654,
                        "bin_end": -982702653.9,
                        "count": 1
                      },
                      {
                        "bin_start": -982702653.9,
                        "bin_end": -982702653.8,
                        "count": 0
                      },
                      {
                        "bin_start": -982702653.8,
                        "bin_end": -982702653.7,
                        "count": 0
                      },
                      {
                        "bin_start": -982702653.7,
                        "bin_end": -982702653.6,
                        "count": 0
                      },
                      {
                        "bin_start": -982702653.6,
                        "bin_end": -982702653.5,
                        "count": 0
                      }
                    ]
                  }
                },
                {
                  "name": "totalLiabilities",
                  "dtype": "int64",
                  "stats": {
                    "unique_count": 1,
                    "nan_count": 0,
                    "min": 3164267816,
                    "max": 3164267816,
                    "histogram": [
                      {
                        "bin_start": 3164267815.5,
                        "bin_end": 3164267815.6,
                        "count": 0
                      },
                      {
                        "bin_start": 3164267815.6,
                        "bin_end": 3164267815.7,
                        "count": 0
                      },
                      {
                        "bin_start": 3164267815.7,
                        "bin_end": 3164267815.8,
                        "count": 0
                      },
                      {
                        "bin_start": 3164267815.8,
                        "bin_end": 3164267815.9,
                        "count": 0
                      },
                      {
                        "bin_start": 3164267815.9,
                        "bin_end": 3164267816,
                        "count": 0
                      },
                      {
                        "bin_start": 3164267816,
                        "bin_end": 3164267816.1,
                        "count": 1
                      },
                      {
                        "bin_start": 3164267816.1,
                        "bin_end": 3164267816.2,
                        "count": 0
                      },
                      {
                        "bin_start": 3164267816.2,
                        "bin_end": 3164267816.3,
                        "count": 0
                      },
                      {
                        "bin_start": 3164267816.3,
                        "bin_end": 3164267816.4,
                        "count": 0
                      },
                      {
                        "bin_start": 3164267816.4,
                        "bin_end": 3164267816.5,
                        "count": 0
                      }
                    ]
                  }
                },
                {
                  "name": "totalRevenue",
                  "dtype": "int64",
                  "stats": {
                    "unique_count": 1,
                    "nan_count": 0,
                    "min": 3299578587,
                    "max": 3299578587,
                    "histogram": [
                      {
                        "bin_start": 3299578586.5,
                        "bin_end": 3299578586.6,
                        "count": 0
                      },
                      {
                        "bin_start": 3299578586.6,
                        "bin_end": 3299578586.7,
                        "count": 0
                      },
                      {
                        "bin_start": 3299578586.7,
                        "bin_end": 3299578586.8,
                        "count": 0
                      },
                      {
                        "bin_start": 3299578586.8,
                        "bin_end": 3299578586.9,
                        "count": 0
                      },
                      {
                        "bin_start": 3299578586.9,
                        "bin_end": 3299578587,
                        "count": 0
                      },
                      {
                        "bin_start": 3299578587,
                        "bin_end": 3299578587.1,
                        "count": 1
                      },
                      {
                        "bin_start": 3299578587.1,
                        "bin_end": 3299578587.2,
                        "count": 0
                      },
                      {
                        "bin_start": 3299578587.2,
                        "bin_end": 3299578587.3,
                        "count": 0
                      },
                      {
                        "bin_start": 3299578587.3,
                        "bin_end": 3299578587.4,
                        "count": 0
                      },
                      {
                        "bin_start": 3299578587.4,
                        "bin_end": 3299578587.5,
                        "count": 0
                      }
                    ]
                  }
                },
                {
                  "name": "treasuryStock",
                  "dtype": "int64",
                  "stats": {
                    "unique_count": 1,
                    "nan_count": 0,
                    "min": -131685105,
                    "max": -131685105,
                    "histogram": [
                      {
                        "bin_start": -131685105.5,
                        "bin_end": -131685105.4,
                        "count": 0
                      },
                      {
                        "bin_start": -131685105.4,
                        "bin_end": -131685105.3,
                        "count": 0
                      },
                      {
                        "bin_start": -131685105.3,
                        "bin_end": -131685105.2,
                        "count": 0
                      },
                      {
                        "bin_start": -131685105.2,
                        "bin_end": -131685105.1,
                        "count": 0
                      },
                      {
                        "bin_start": -131685105.1,
                        "bin_end": -131685105,
                        "count": 0
                      },
                      {
                        "bin_start": -131685105,
                        "bin_end": -131685104.9,
                        "count": 1
                      },
                      {
                        "bin_start": -131685104.9,
                        "bin_end": -131685104.8,
                        "count": 0
                      },
                      {
                        "bin_start": -131685104.8,
                        "bin_end": -131685104.7,
                        "count": 0
                      },
                      {
                        "bin_start": -131685104.7,
                        "bin_end": -131685104.6,
                        "count": 0
                      },
                      {
                        "bin_start": -131685104.6,
                        "bin_end": -131685104.5,
                        "count": 0
                      }
                    ]
                  }
                },
                {
                  "name": "id",
                  "dtype": "object",
                  "stats": {
                    "unique_count": 1,
                    "nan_count": 0,
                    "categories": [
                      {
                        "name": "ICIANASFNL",
                        "count": 1
                      }
                    ]
                  }
                },
                {
                  "name": "key",
                  "dtype": "object",
                  "stats": {
                    "unique_count": 1,
                    "nan_count": 0,
                    "categories": [
                      {
                        "name": "MAD",
                        "count": 1
                      }
                    ]
                  }
                },
                {
                  "name": "subkey",
                  "dtype": "object",
                  "stats": {
                    "unique_count": 1,
                    "nan_count": 0,
                    "categories": [
                      {
                        "name": "tryarlqeu",
                        "count": 1
                      }
                    ]
                  }
                },
                {
                  "name": "updated",
                  "dtype": "datetime64[ns]",
                  "stats": {
                    "unique_count": 1,
                    "nan_count": 0,
                    "min": "2023-08-03T10:39:34.146000",
                    "max": "2023-08-03T10:39:34.146000",
                    "histogram": null
                  }
                },
                {
                  "name": "_deepnote_index_column",
                  "dtype": "datetime64[ns]"
                }
              ],
              "rows_top": [
                {
                  "EBITDA": 677449727,
                  "accountsPayable": 557668125,
                  "capitalSurplus": "nan",
                  "cashChange": 528171463,
                  "cashFlow": 1071371952,
                  "cashFlowFinancing": 6164868,
                  "changesInInventories": 107875814,
                  "changesInReceivables": -60691948,
                  "commonStock": 1245672355,
                  "costOfRevenue": 1841412557,
                  "currency": "USD",
                  "currentAssets": 6390875989,
                  "currentCash": 2393193448,
                  "currentDebt": 0,
                  "currentLongTermDebt": 0,
                  "depreciation": 368273776,
                  "dividendsPaid": "nan",
                  "ebit": 580045962,
                  "exchangeRateEffect": "nan",
                  "filingType": "-10K",
                  "fiscalDate": "2020-12-14",
                  "fiscalQuarter": 4,
                  "fiscalYear": 2091,
                  "goodwill": 296564427,
                  "grossProfit": 1476178815,
                  "incomeTax": -1261646095,
                  "intangibleAssets": 236816489,
                  "interestIncome": 1041365,
                  "inventory": 1410709425,
                  "investingActivityOther": "nan",
                  "investments": "nan",
                  "longTermDebt": 338695813,
                  "longTermInvestments": 2840496351,
                  "minorityInterest": 0,
                  "netBorrowings": -2440085976,
                  "netIncome": 1783304856,
                  "netIncomeBasic": 1840204462,
                  "netTangibleAssets": 5343822253,
                  "operatingExpense": 2785235795,
                  "operatingIncome": 581428754,
                  "operatingRevenue": 3341721881,
                  "otherAssets": 148598809,
                  "otherCurrentAssets": 395460865,
                  "otherCurrentLiabilities": 1927161193,
                  "otherIncomeExpenseNet": 0,
                  "otherLiabilities": 181654310,
                  "pretaxIncome": 550856926,
                  "propertyPlantEquipment": 666212892,
                  "receivables": 2123701189,
                  "researchAndDevelopment": 598123471,
                  "retainedEarnings": -4749322223,
                  "revenue": 3275828601,
                  "sellingGeneralAndAdmin": 323345354,
                  "shareholderEquity": 6127515172,
                  "shortTermDebt": 0,
                  "shortTermInvestments": 379835029,
                  "symbol": "AMD",
                  "totalAssets": 9180303597,
                  "totalCash": 2386420735,
                  "totalDebt": 332978584,
                  "totalInvestingCashFlows": -982702654,
                  "totalLiabilities": 3164267816,
                  "totalRevenue": 3299578587,
                  "treasuryStock": -131685105,
                  "id": "ICIANASFNL",
                  "key": "MAD",
                  "subkey": "tryarlqeu",
                  "updated": "2023-08-03T10:39:34.146000",
                  "_deepnote_index_column": "2021-01-18T00:00:00.000000"
                }
              ],
              "rows_bottom": null
            },
            "text/plain": "               EBITDA  accountsPayable capitalSurplus  cashChange    cashFlow  \\\nreportDate                                                                      \n2021-01-18  677449727        557668125           None   528171463  1071371952   \n\n            cashFlowFinancing  changesInInventories  changesInReceivables  \\\nreportDate                                                                  \n2021-01-18            6164868             107875814             -60691948   \n\n            commonStock  costOfRevenue  ...   totalCash  totalDebt  \\\nreportDate                              ...                          \n2021-01-18   1245672355     1841412557  ...  2386420735  332978584   \n\n            totalInvestingCashFlows  totalLiabilities  totalRevenue  \\\nreportDate                                                            \n2021-01-18               -982702654        3164267816    3299578587   \n\n            treasuryStock          id  key     subkey                 updated  \nreportDate                                                                     \n2021-01-18     -131685105  ICIANASFNL  MAD  tryarlqeu 2023-08-03 10:39:34.146  \n\n[1 rows x 68 columns]",
            "text/html": "<div>\n<style scoped>\n    .dataframe tbody tr th:only-of-type {\n        vertical-align: middle;\n    }\n\n    .dataframe tbody tr th {\n        vertical-align: top;\n    }\n\n    .dataframe thead th {\n        text-align: right;\n    }\n</style>\n<table border=\"1\" class=\"dataframe\">\n  <thead>\n    <tr style=\"text-align: right;\">\n      <th></th>\n      <th>EBITDA</th>\n      <th>accountsPayable</th>\n      <th>capitalSurplus</th>\n      <th>cashChange</th>\n      <th>cashFlow</th>\n      <th>cashFlowFinancing</th>\n      <th>changesInInventories</th>\n      <th>changesInReceivables</th>\n      <th>commonStock</th>\n      <th>costOfRevenue</th>\n      <th>...</th>\n      <th>totalCash</th>\n      <th>totalDebt</th>\n      <th>totalInvestingCashFlows</th>\n      <th>totalLiabilities</th>\n      <th>totalRevenue</th>\n      <th>treasuryStock</th>\n      <th>id</th>\n      <th>key</th>\n      <th>subkey</th>\n      <th>updated</th>\n    </tr>\n    <tr>\n      <th>reportDate</th>\n      <th></th>\n      <th></th>\n      <th></th>\n      <th></th>\n      <th></th>\n      <th></th>\n      <th></th>\n      <th></th>\n      <th></th>\n      <th></th>\n      <th></th>\n      <th></th>\n      <th></th>\n      <th></th>\n      <th></th>\n      <th></th>\n      <th></th>\n      <th></th>\n      <th></th>\n      <th></th>\n      <th></th>\n    </tr>\n  </thead>\n  <tbody>\n    <tr>\n      <th>2021-01-18</th>\n      <td>677449727</td>\n      <td>557668125</td>\n      <td>None</td>\n      <td>528171463</td>\n      <td>1071371952</td>\n      <td>6164868</td>\n      <td>107875814</td>\n      <td>-60691948</td>\n      <td>1245672355</td>\n      <td>1841412557</td>\n      <td>...</td>\n      <td>2386420735</td>\n      <td>332978584</td>\n      <td>-982702654</td>\n      <td>3164267816</td>\n      <td>3299578587</td>\n      <td>-131685105</td>\n      <td>ICIANASFNL</td>\n      <td>MAD</td>\n      <td>tryarlqeu</td>\n      <td>2023-08-03 10:39:34.146</td>\n    </tr>\n  </tbody>\n</table>\n<p>1 rows × 68 columns</p>\n</div>"
          },
          "metadata": {}
        }
      ]
    },
    {
      "cell_type": "code",
      "metadata": {
        "tags": [],
        "cell_id": "00003-3322cc85-0789-4b79-8e47-b2b16f5fb977",
        "deepnote_to_be_reexecuted": false,
        "source_hash": "5d6f7871",
        "execution_start": 1616084823339,
        "execution_millis": 286,
        "deepnote_cell_type": "code"
      },
      "source": "df = p.balanceSheetDF('AMD')\ndf.head()",
      "execution_count": 13,
      "outputs": [
        {
          "name": "stderr",
          "text": "/shared-libs/python3.7/py/lib/python3.7/site-packages/numpy/lib/histograms.py:822: RuntimeWarning: divide by zero encountered in double_scalars\n  norm = n_equal_bins / _unsigned_subtract(last_edge, first_edge)\n/shared-libs/python3.7/py/lib/python3.7/site-packages/numpy/lib/histograms.py:850: RuntimeWarning: invalid value encountered in multiply\n  f_indices = _unsigned_subtract(tmp_a, first_edge) * norm\n",
          "output_type": "stream"
        },
        {
          "output_type": "execute_result",
          "execution_count": 13,
          "data": {
            "application/vnd.deepnote.dataframe.v2+json": {
              "row_count": 1,
              "column_count": 36,
              "columns": [
                {
                  "name": "accountsPayable",
                  "dtype": "int64",
                  "stats": {
                    "unique_count": 1,
                    "nan_count": 0,
                    "min": 563362049,
                    "max": 563362049,
                    "histogram": [
                      {
                        "bin_start": 563362048.5,
                        "bin_end": 563362048.6,
                        "count": 0
                      },
                      {
                        "bin_start": 563362048.6,
                        "bin_end": 563362048.7,
                        "count": 0
                      },
                      {
                        "bin_start": 563362048.7,
                        "bin_end": 563362048.8,
                        "count": 0
                      },
                      {
                        "bin_start": 563362048.8,
                        "bin_end": 563362048.9,
                        "count": 0
                      },
                      {
                        "bin_start": 563362048.9,
                        "bin_end": 563362049,
                        "count": 0
                      },
                      {
                        "bin_start": 563362049,
                        "bin_end": 563362049.1,
                        "count": 1
                      },
                      {
                        "bin_start": 563362049.1,
                        "bin_end": 563362049.2,
                        "count": 0
                      },
                      {
                        "bin_start": 563362049.2,
                        "bin_end": 563362049.3,
                        "count": 0
                      },
                      {
                        "bin_start": 563362049.3,
                        "bin_end": 563362049.4,
                        "count": 0
                      },
                      {
                        "bin_start": 563362049.4,
                        "bin_end": 563362049.5,
                        "count": 0
                      }
                    ]
                  }
                },
                {
                  "name": "capitalSurplus",
                  "dtype": "object",
                  "stats": {
                    "unique_count": 0,
                    "nan_count": 1,
                    "categories": [
                      {
                        "name": "Missing",
                        "count": 1
                      }
                    ]
                  }
                },
                {
                  "name": "commonStock",
                  "dtype": "int64",
                  "stats": {
                    "unique_count": 1,
                    "nan_count": 0,
                    "min": 1253483295,
                    "max": 1253483295,
                    "histogram": [
                      {
                        "bin_start": 1253483294.5,
                        "bin_end": 1253483294.6,
                        "count": 0
                      },
                      {
                        "bin_start": 1253483294.6,
                        "bin_end": 1253483294.7,
                        "count": 0
                      },
                      {
                        "bin_start": 1253483294.7,
                        "bin_end": 1253483294.8,
                        "count": 0
                      },
                      {
                        "bin_start": 1253483294.8,
                        "bin_end": 1253483294.9,
                        "count": 0
                      },
                      {
                        "bin_start": 1253483294.9,
                        "bin_end": 1253483295,
                        "count": 0
                      },
                      {
                        "bin_start": 1253483295,
                        "bin_end": 1253483295.1,
                        "count": 1
                      },
                      {
                        "bin_start": 1253483295.1,
                        "bin_end": 1253483295.2,
                        "count": 0
                      },
                      {
                        "bin_start": 1253483295.2,
                        "bin_end": 1253483295.3,
                        "count": 0
                      },
                      {
                        "bin_start": 1253483295.3,
                        "bin_end": 1253483295.4,
                        "count": 0
                      },
                      {
                        "bin_start": 1253483295.4,
                        "bin_end": 1253483295.5,
                        "count": 0
                      }
                    ]
                  }
                },
                {
                  "name": "currency",
                  "dtype": "object",
                  "stats": {
                    "unique_count": 1,
                    "nan_count": 0,
                    "categories": [
                      {
                        "name": "USD",
                        "count": 1
                      }
                    ]
                  }
                },
                {
                  "name": "currentAssets",
                  "dtype": "int64",
                  "stats": {
                    "unique_count": 1,
                    "nan_count": 0,
                    "min": 6422785920,
                    "max": 6422785920,
                    "histogram": [
                      {
                        "bin_start": 6422785919.5,
                        "bin_end": 6422785919.6,
                        "count": 0
                      },
                      {
                        "bin_start": 6422785919.6,
                        "bin_end": 6422785919.7,
                        "count": 0
                      },
                      {
                        "bin_start": 6422785919.7,
                        "bin_end": 6422785919.8,
                        "count": 0
                      },
                      {
                        "bin_start": 6422785919.8,
                        "bin_end": 6422785919.9,
                        "count": 0
                      },
                      {
                        "bin_start": 6422785919.9,
                        "bin_end": 6422785920,
                        "count": 0
                      },
                      {
                        "bin_start": 6422785920,
                        "bin_end": 6422785920.1,
                        "count": 1
                      },
                      {
                        "bin_start": 6422785920.1,
                        "bin_end": 6422785920.2,
                        "count": 0
                      },
                      {
                        "bin_start": 6422785920.2,
                        "bin_end": 6422785920.3,
                        "count": 0
                      },
                      {
                        "bin_start": 6422785920.3,
                        "bin_end": 6422785920.4,
                        "count": 0
                      },
                      {
                        "bin_start": 6422785920.4,
                        "bin_end": 6422785920.5,
                        "count": 0
                      }
                    ]
                  }
                },
                {
                  "name": "currentCash",
                  "dtype": "int64",
                  "stats": {
                    "unique_count": 1,
                    "nan_count": 0,
                    "min": 2331696565,
                    "max": 2331696565,
                    "histogram": [
                      {
                        "bin_start": 2331696564.5,
                        "bin_end": 2331696564.6,
                        "count": 0
                      },
                      {
                        "bin_start": 2331696564.6,
                        "bin_end": 2331696564.7,
                        "count": 0
                      },
                      {
                        "bin_start": 2331696564.7,
                        "bin_end": 2331696564.8,
                        "count": 0
                      },
                      {
                        "bin_start": 2331696564.8,
                        "bin_end": 2331696564.9,
                        "count": 0
                      },
                      {
                        "bin_start": 2331696564.9,
                        "bin_end": 2331696565,
                        "count": 0
                      },
                      {
                        "bin_start": 2331696565,
                        "bin_end": 2331696565.1,
                        "count": 1
                      },
                      {
                        "bin_start": 2331696565.1,
                        "bin_end": 2331696565.2,
                        "count": 0
                      },
                      {
                        "bin_start": 2331696565.2,
                        "bin_end": 2331696565.3,
                        "count": 0
                      },
                      {
                        "bin_start": 2331696565.3,
                        "bin_end": 2331696565.4,
                        "count": 0
                      },
                      {
                        "bin_start": 2331696565.4,
                        "bin_end": 2331696565.5,
                        "count": 0
                      }
                    ]
                  }
                },
                {
                  "name": "currentLongTermDebt",
                  "dtype": "int64",
                  "stats": {
                    "unique_count": 1,
                    "nan_count": 0,
                    "min": 0,
                    "max": 0,
                    "histogram": [
                      {
                        "bin_start": -0.5,
                        "bin_end": -0.4,
                        "count": 0
                      },
                      {
                        "bin_start": -0.4,
                        "bin_end": -0.3,
                        "count": 0
                      },
                      {
                        "bin_start": -0.3,
                        "bin_end": -0.19999999999999996,
                        "count": 0
                      },
                      {
                        "bin_start": -0.19999999999999996,
                        "bin_end": -0.09999999999999998,
                        "count": 0
                      },
                      {
                        "bin_start": -0.09999999999999998,
                        "bin_end": 0,
                        "count": 0
                      },
                      {
                        "bin_start": 0,
                        "bin_end": 0.10000000000000009,
                        "count": 1
                      },
                      {
                        "bin_start": 0.10000000000000009,
                        "bin_end": 0.20000000000000007,
                        "count": 0
                      },
                      {
                        "bin_start": 0.20000000000000007,
                        "bin_end": 0.30000000000000004,
                        "count": 0
                      },
                      {
                        "bin_start": 0.30000000000000004,
                        "bin_end": 0.4,
                        "count": 0
                      },
                      {
                        "bin_start": 0.4,
                        "bin_end": 0.5,
                        "count": 0
                      }
                    ]
                  }
                },
                {
                  "name": "filingType",
                  "dtype": "object",
                  "stats": {
                    "unique_count": 1,
                    "nan_count": 0,
                    "categories": [
                      {
                        "name": "K0-1",
                        "count": 1
                      }
                    ]
                  }
                },
                {
                  "name": "fiscalDate",
                  "dtype": "object",
                  "stats": {
                    "unique_count": 1,
                    "nan_count": 0,
                    "categories": [
                      {
                        "name": "2020-12-14",
                        "count": 1
                      }
                    ]
                  }
                },
                {
                  "name": "fiscalQuarter",
                  "dtype": "int64",
                  "stats": {
                    "unique_count": 1,
                    "nan_count": 0,
                    "min": 4,
                    "max": 4,
                    "histogram": [
                      {
                        "bin_start": 3.5,
                        "bin_end": 3.6,
                        "count": 0
                      },
                      {
                        "bin_start": 3.6,
                        "bin_end": 3.7,
                        "count": 0
                      },
                      {
                        "bin_start": 3.7,
                        "bin_end": 3.8,
                        "count": 0
                      },
                      {
                        "bin_start": 3.8,
                        "bin_end": 3.9,
                        "count": 0
                      },
                      {
                        "bin_start": 3.9,
                        "bin_end": 4,
                        "count": 0
                      },
                      {
                        "bin_start": 4,
                        "bin_end": 4.1,
                        "count": 1
                      },
                      {
                        "bin_start": 4.1,
                        "bin_end": 4.2,
                        "count": 0
                      },
                      {
                        "bin_start": 4.2,
                        "bin_end": 4.3,
                        "count": 0
                      },
                      {
                        "bin_start": 4.3,
                        "bin_end": 4.4,
                        "count": 0
                      },
                      {
                        "bin_start": 4.4,
                        "bin_end": 4.5,
                        "count": 0
                      }
                    ]
                  }
                },
                {
                  "name": "fiscalYear",
                  "dtype": "int64",
                  "stats": {
                    "unique_count": 1,
                    "nan_count": 0,
                    "min": 2087,
                    "max": 2087,
                    "histogram": [
                      {
                        "bin_start": 2086.5,
                        "bin_end": 2086.6,
                        "count": 0
                      },
                      {
                        "bin_start": 2086.6,
                        "bin_end": 2086.7,
                        "count": 0
                      },
                      {
                        "bin_start": 2086.7,
                        "bin_end": 2086.8,
                        "count": 0
                      },
                      {
                        "bin_start": 2086.8,
                        "bin_end": 2086.9,
                        "count": 0
                      },
                      {
                        "bin_start": 2086.9,
                        "bin_end": 2087,
                        "count": 0
                      },
                      {
                        "bin_start": 2087,
                        "bin_end": 2087.1,
                        "count": 1
                      },
                      {
                        "bin_start": 2087.1,
                        "bin_end": 2087.2,
                        "count": 0
                      },
                      {
                        "bin_start": 2087.2,
                        "bin_end": 2087.3,
                        "count": 0
                      },
                      {
                        "bin_start": 2087.3,
                        "bin_end": 2087.4,
                        "count": 0
                      },
                      {
                        "bin_start": 2087.4,
                        "bin_end": 2087.5,
                        "count": 0
                      }
                    ]
                  }
                },
                {
                  "name": "goodwill",
                  "dtype": "int64",
                  "stats": {
                    "unique_count": 1,
                    "nan_count": 0,
                    "min": 290659327,
                    "max": 290659327,
                    "histogram": [
                      {
                        "bin_start": 290659326.5,
                        "bin_end": 290659326.6,
                        "count": 0
                      },
                      {
                        "bin_start": 290659326.6,
                        "bin_end": 290659326.7,
                        "count": 0
                      },
                      {
                        "bin_start": 290659326.7,
                        "bin_end": 290659326.8,
                        "count": 0
                      },
                      {
                        "bin_start": 290659326.8,
                        "bin_end": 290659326.9,
                        "count": 0
                      },
                      {
                        "bin_start": 290659326.9,
                        "bin_end": 290659327,
                        "count": 0
                      },
                      {
                        "bin_start": 290659327,
                        "bin_end": 290659327.1,
                        "count": 1
                      },
                      {
                        "bin_start": 290659327.1,
                        "bin_end": 290659327.2,
                        "count": 0
                      },
                      {
                        "bin_start": 290659327.2,
                        "bin_end": 290659327.3,
                        "count": 0
                      },
                      {
                        "bin_start": 290659327.3,
                        "bin_end": 290659327.4,
                        "count": 0
                      },
                      {
                        "bin_start": 290659327.4,
                        "bin_end": 290659327.5,
                        "count": 0
                      }
                    ]
                  }
                },
                {
                  "name": "intangibleAssets",
                  "dtype": "int64",
                  "stats": {
                    "unique_count": 1,
                    "nan_count": 0,
                    "min": 239498416,
                    "max": 239498416,
                    "histogram": [
                      {
                        "bin_start": 239498415.5,
                        "bin_end": 239498415.6,
                        "count": 0
                      },
                      {
                        "bin_start": 239498415.6,
                        "bin_end": 239498415.7,
                        "count": 0
                      },
                      {
                        "bin_start": 239498415.7,
                        "bin_end": 239498415.8,
                        "count": 0
                      },
                      {
                        "bin_start": 239498415.8,
                        "bin_end": 239498415.9,
                        "count": 0
                      },
                      {
                        "bin_start": 239498415.9,
                        "bin_end": 239498416,
                        "count": 0
                      },
                      {
                        "bin_start": 239498416,
                        "bin_end": 239498416.1,
                        "count": 1
                      },
                      {
                        "bin_start": 239498416.1,
                        "bin_end": 239498416.2,
                        "count": 0
                      },
                      {
                        "bin_start": 239498416.2,
                        "bin_end": 239498416.3,
                        "count": 0
                      },
                      {
                        "bin_start": 239498416.3,
                        "bin_end": 239498416.4,
                        "count": 0
                      },
                      {
                        "bin_start": 239498416.4,
                        "bin_end": 239498416.5,
                        "count": 0
                      }
                    ]
                  }
                },
                {
                  "name": "inventory",
                  "dtype": "int64",
                  "stats": {
                    "unique_count": 1,
                    "nan_count": 0,
                    "min": 1463358509,
                    "max": 1463358509,
                    "histogram": [
                      {
                        "bin_start": 1463358508.5,
                        "bin_end": 1463358508.6,
                        "count": 0
                      },
                      {
                        "bin_start": 1463358508.6,
                        "bin_end": 1463358508.7,
                        "count": 0
                      },
                      {
                        "bin_start": 1463358508.7,
                        "bin_end": 1463358508.8,
                        "count": 0
                      },
                      {
                        "bin_start": 1463358508.8,
                        "bin_end": 1463358508.9,
                        "count": 0
                      },
                      {
                        "bin_start": 1463358508.9,
                        "bin_end": 1463358509,
                        "count": 0
                      },
                      {
                        "bin_start": 1463358509,
                        "bin_end": 1463358509.1,
                        "count": 1
                      },
                      {
                        "bin_start": 1463358509.1,
                        "bin_end": 1463358509.2,
                        "count": 0
                      },
                      {
                        "bin_start": 1463358509.2,
                        "bin_end": 1463358509.3,
                        "count": 0
                      },
                      {
                        "bin_start": 1463358509.3,
                        "bin_end": 1463358509.4,
                        "count": 0
                      },
                      {
                        "bin_start": 1463358509.4,
                        "bin_end": 1463358509.5,
                        "count": 0
                      }
                    ]
                  }
                },
                {
                  "name": "longTermDebt",
                  "dtype": "int64",
                  "stats": {
                    "unique_count": 1,
                    "nan_count": 0,
                    "min": 336788773,
                    "max": 336788773,
                    "histogram": [
                      {
                        "bin_start": 336788772.5,
                        "bin_end": 336788772.6,
                        "count": 0
                      },
                      {
                        "bin_start": 336788772.6,
                        "bin_end": 336788772.7,
                        "count": 0
                      },
                      {
                        "bin_start": 336788772.7,
                        "bin_end": 336788772.8,
                        "count": 0
                      },
                      {
                        "bin_start": 336788772.8,
                        "bin_end": 336788772.9,
                        "count": 0
                      },
                      {
                        "bin_start": 336788772.9,
                        "bin_end": 336788773,
                        "count": 0
                      },
                      {
                        "bin_start": 336788773,
                        "bin_end": 336788773.1,
                        "count": 1
                      },
                      {
                        "bin_start": 336788773.1,
                        "bin_end": 336788773.2,
                        "count": 0
                      },
                      {
                        "bin_start": 336788773.2,
                        "bin_end": 336788773.3,
                        "count": 0
                      },
                      {
                        "bin_start": 336788773.3,
                        "bin_end": 336788773.4,
                        "count": 0
                      },
                      {
                        "bin_start": 336788773.4,
                        "bin_end": 336788773.5,
                        "count": 0
                      }
                    ]
                  }
                },
                {
                  "name": "longTermInvestments",
                  "dtype": "int64",
                  "stats": {
                    "unique_count": 1,
                    "nan_count": 0,
                    "min": 2938361334,
                    "max": 2938361334,
                    "histogram": [
                      {
                        "bin_start": 2938361333.5,
                        "bin_end": 2938361333.6,
                        "count": 0
                      },
                      {
                        "bin_start": 2938361333.6,
                        "bin_end": 2938361333.7,
                        "count": 0
                      },
                      {
                        "bin_start": 2938361333.7,
                        "bin_end": 2938361333.8,
                        "count": 0
                      },
                      {
                        "bin_start": 2938361333.8,
                        "bin_end": 2938361333.9,
                        "count": 0
                      },
                      {
                        "bin_start": 2938361333.9,
                        "bin_end": 2938361334,
                        "count": 0
                      },
                      {
                        "bin_start": 2938361334,
                        "bin_end": 2938361334.1,
                        "count": 1
                      },
                      {
                        "bin_start": 2938361334.1,
                        "bin_end": 2938361334.2,
                        "count": 0
                      },
                      {
                        "bin_start": 2938361334.2,
                        "bin_end": 2938361334.3,
                        "count": 0
                      },
                      {
                        "bin_start": 2938361334.3,
                        "bin_end": 2938361334.4,
                        "count": 0
                      },
                      {
                        "bin_start": 2938361334.4,
                        "bin_end": 2938361334.5,
                        "count": 0
                      }
                    ]
                  }
                },
                {
                  "name": "minorityInterest",
                  "dtype": "int64",
                  "stats": {
                    "unique_count": 1,
                    "nan_count": 0,
                    "min": 0,
                    "max": 0,
                    "histogram": [
                      {
                        "bin_start": -0.5,
                        "bin_end": -0.4,
                        "count": 0
                      },
                      {
                        "bin_start": -0.4,
                        "bin_end": -0.3,
                        "count": 0
                      },
                      {
                        "bin_start": -0.3,
                        "bin_end": -0.19999999999999996,
                        "count": 0
                      },
                      {
                        "bin_start": -0.19999999999999996,
                        "bin_end": -0.09999999999999998,
                        "count": 0
                      },
                      {
                        "bin_start": -0.09999999999999998,
                        "bin_end": 0,
                        "count": 0
                      },
                      {
                        "bin_start": 0,
                        "bin_end": 0.10000000000000009,
                        "count": 1
                      },
                      {
                        "bin_start": 0.10000000000000009,
                        "bin_end": 0.20000000000000007,
                        "count": 0
                      },
                      {
                        "bin_start": 0.20000000000000007,
                        "bin_end": 0.30000000000000004,
                        "count": 0
                      },
                      {
                        "bin_start": 0.30000000000000004,
                        "bin_end": 0.4,
                        "count": 0
                      },
                      {
                        "bin_start": 0.4,
                        "bin_end": 0.5,
                        "count": 0
                      }
                    ]
                  }
                },
                {
                  "name": "netTangibleAssets",
                  "dtype": "int64",
                  "stats": {
                    "unique_count": 1,
                    "nan_count": 0,
                    "min": 5402258170,
                    "max": 5402258170,
                    "histogram": [
                      {
                        "bin_start": 5402258169.5,
                        "bin_end": 5402258169.6,
                        "count": 0
                      },
                      {
                        "bin_start": 5402258169.6,
                        "bin_end": 5402258169.7,
                        "count": 0
                      },
                      {
                        "bin_start": 5402258169.7,
                        "bin_end": 5402258169.8,
                        "count": 0
                      },
                      {
                        "bin_start": 5402258169.8,
                        "bin_end": 5402258169.9,
                        "count": 0
                      },
                      {
                        "bin_start": 5402258169.9,
                        "bin_end": 5402258170,
                        "count": 0
                      },
                      {
                        "bin_start": 5402258170,
                        "bin_end": 5402258170.1,
                        "count": 1
                      },
                      {
                        "bin_start": 5402258170.1,
                        "bin_end": 5402258170.2,
                        "count": 0
                      },
                      {
                        "bin_start": 5402258170.2,
                        "bin_end": 5402258170.3,
                        "count": 0
                      },
                      {
                        "bin_start": 5402258170.3,
                        "bin_end": 5402258170.4,
                        "count": 0
                      },
                      {
                        "bin_start": 5402258170.4,
                        "bin_end": 5402258170.5,
                        "count": 0
                      }
                    ]
                  }
                },
                {
                  "name": "otherAssets",
                  "dtype": "int64",
                  "stats": {
                    "unique_count": 1,
                    "nan_count": 0,
                    "min": 144579114,
                    "max": 144579114,
                    "histogram": [
                      {
                        "bin_start": 144579113.5,
                        "bin_end": 144579113.6,
                        "count": 0
                      },
                      {
                        "bin_start": 144579113.6,
                        "bin_end": 144579113.7,
                        "count": 0
                      },
                      {
                        "bin_start": 144579113.7,
                        "bin_end": 144579113.8,
                        "count": 0
                      },
                      {
                        "bin_start": 144579113.8,
                        "bin_end": 144579113.9,
                        "count": 0
                      },
                      {
                        "bin_start": 144579113.9,
                        "bin_end": 144579114,
                        "count": 0
                      },
                      {
                        "bin_start": 144579114,
                        "bin_end": 144579114.1,
                        "count": 1
                      },
                      {
                        "bin_start": 144579114.1,
                        "bin_end": 144579114.2,
                        "count": 0
                      },
                      {
                        "bin_start": 144579114.2,
                        "bin_end": 144579114.3,
                        "count": 0
                      },
                      {
                        "bin_start": 144579114.3,
                        "bin_end": 144579114.4,
                        "count": 0
                      },
                      {
                        "bin_start": 144579114.4,
                        "bin_end": 144579114.5,
                        "count": 0
                      }
                    ]
                  }
                },
                {
                  "name": "otherCurrentAssets",
                  "dtype": "int64",
                  "stats": {
                    "unique_count": 1,
                    "nan_count": 0,
                    "min": 383816340,
                    "max": 383816340,
                    "histogram": [
                      {
                        "bin_start": 383816339.5,
                        "bin_end": 383816339.6,
                        "count": 0
                      },
                      {
                        "bin_start": 383816339.6,
                        "bin_end": 383816339.7,
                        "count": 0
                      },
                      {
                        "bin_start": 383816339.7,
                        "bin_end": 383816339.8,
                        "count": 0
                      },
                      {
                        "bin_start": 383816339.8,
                        "bin_end": 383816339.9,
                        "count": 0
                      },
                      {
                        "bin_start": 383816339.9,
                        "bin_end": 383816340,
                        "count": 0
                      },
                      {
                        "bin_start": 383816340,
                        "bin_end": 383816340.1,
                        "count": 1
                      },
                      {
                        "bin_start": 383816340.1,
                        "bin_end": 383816340.2,
                        "count": 0
                      },
                      {
                        "bin_start": 383816340.2,
                        "bin_end": 383816340.3,
                        "count": 0
                      },
                      {
                        "bin_start": 383816340.3,
                        "bin_end": 383816340.4,
                        "count": 0
                      },
                      {
                        "bin_start": 383816340.4,
                        "bin_end": 383816340.5,
                        "count": 0
                      }
                    ]
                  }
                },
                {
                  "name": "otherCurrentLiabilities",
                  "dtype": "int64",
                  "stats": {
                    "unique_count": 1,
                    "nan_count": 0,
                    "min": 1957142685,
                    "max": 1957142685,
                    "histogram": [
                      {
                        "bin_start": 1957142684.5,
                        "bin_end": 1957142684.6,
                        "count": 0
                      },
                      {
                        "bin_start": 1957142684.6,
                        "bin_end": 1957142684.7,
                        "count": 0
                      },
                      {
                        "bin_start": 1957142684.7,
                        "bin_end": 1957142684.8,
                        "count": 0
                      },
                      {
                        "bin_start": 1957142684.8,
                        "bin_end": 1957142684.9,
                        "count": 0
                      },
                      {
                        "bin_start": 1957142684.9,
                        "bin_end": 1957142685,
                        "count": 0
                      },
                      {
                        "bin_start": 1957142685,
                        "bin_end": 1957142685.1,
                        "count": 1
                      },
                      {
                        "bin_start": 1957142685.1,
                        "bin_end": 1957142685.2,
                        "count": 0
                      },
                      {
                        "bin_start": 1957142685.2,
                        "bin_end": 1957142685.3,
                        "count": 0
                      },
                      {
                        "bin_start": 1957142685.3,
                        "bin_end": 1957142685.4,
                        "count": 0
                      },
                      {
                        "bin_start": 1957142685.4,
                        "bin_end": 1957142685.5,
                        "count": 0
                      }
                    ]
                  }
                },
                {
                  "name": "otherLiabilities",
                  "dtype": "int64",
                  "stats": {
                    "unique_count": 1,
                    "nan_count": 0,
                    "min": 185524543,
                    "max": 185524543,
                    "histogram": [
                      {
                        "bin_start": 185524542.5,
                        "bin_end": 185524542.6,
                        "count": 0
                      },
                      {
                        "bin_start": 185524542.6,
                        "bin_end": 185524542.7,
                        "count": 0
                      },
                      {
                        "bin_start": 185524542.7,
                        "bin_end": 185524542.8,
                        "count": 0
                      },
                      {
                        "bin_start": 185524542.8,
                        "bin_end": 185524542.9,
                        "count": 0
                      },
                      {
                        "bin_start": 185524542.9,
                        "bin_end": 185524543,
                        "count": 0
                      },
                      {
                        "bin_start": 185524543,
                        "bin_end": 185524543.1,
                        "count": 1
                      },
                      {
                        "bin_start": 185524543.1,
                        "bin_end": 185524543.2,
                        "count": 0
                      },
                      {
                        "bin_start": 185524543.2,
                        "bin_end": 185524543.3,
                        "count": 0
                      },
                      {
                        "bin_start": 185524543.3,
                        "bin_end": 185524543.4,
                        "count": 0
                      },
                      {
                        "bin_start": 185524543.4,
                        "bin_end": 185524543.5,
                        "count": 0
                      }
                    ]
                  }
                },
                {
                  "name": "propertyPlantEquipment",
                  "dtype": "int64",
                  "stats": {
                    "unique_count": 1,
                    "nan_count": 0,
                    "min": 662117038,
                    "max": 662117038,
                    "histogram": [
                      {
                        "bin_start": 662117037.5,
                        "bin_end": 662117037.6,
                        "count": 0
                      },
                      {
                        "bin_start": 662117037.6,
                        "bin_end": 662117037.7,
                        "count": 0
                      },
                      {
                        "bin_start": 662117037.7,
                        "bin_end": 662117037.8,
                        "count": 0
                      },
                      {
                        "bin_start": 662117037.8,
                        "bin_end": 662117037.9,
                        "count": 0
                      },
                      {
                        "bin_start": 662117037.9,
                        "bin_end": 662117038,
                        "count": 0
                      },
                      {
                        "bin_start": 662117038,
                        "bin_end": 662117038.1,
                        "count": 1
                      },
                      {
                        "bin_start": 662117038.1,
                        "bin_end": 662117038.2,
                        "count": 0
                      },
                      {
                        "bin_start": 662117038.2,
                        "bin_end": 662117038.3,
                        "count": 0
                      },
                      {
                        "bin_start": 662117038.3,
                        "bin_end": 662117038.4,
                        "count": 0
                      },
                      {
                        "bin_start": 662117038.4,
                        "bin_end": 662117038.5,
                        "count": 0
                      }
                    ]
                  }
                },
                {
                  "name": "receivables",
                  "dtype": "int64",
                  "stats": {
                    "unique_count": 1,
                    "nan_count": 0,
                    "min": 2113861597,
                    "max": 2113861597,
                    "histogram": [
                      {
                        "bin_start": 2113861596.5,
                        "bin_end": 2113861596.6,
                        "count": 0
                      },
                      {
                        "bin_start": 2113861596.6,
                        "bin_end": 2113861596.7,
                        "count": 0
                      },
                      {
                        "bin_start": 2113861596.7,
                        "bin_end": 2113861596.8,
                        "count": 0
                      },
                      {
                        "bin_start": 2113861596.8,
                        "bin_end": 2113861596.9,
                        "count": 0
                      },
                      {
                        "bin_start": 2113861596.9,
                        "bin_end": 2113861597,
                        "count": 0
                      },
                      {
                        "bin_start": 2113861597,
                        "bin_end": 2113861597.1,
                        "count": 1
                      },
                      {
                        "bin_start": 2113861597.1,
                        "bin_end": 2113861597.2,
                        "count": 0
                      },
                      {
                        "bin_start": 2113861597.2,
                        "bin_end": 2113861597.3,
                        "count": 0
                      },
                      {
                        "bin_start": 2113861597.3,
                        "bin_end": 2113861597.4,
                        "count": 0
                      },
                      {
                        "bin_start": 2113861597.4,
                        "bin_end": 2113861597.5,
                        "count": 0
                      }
                    ]
                  }
                },
                {
                  "name": "retainedEarnings",
                  "dtype": "int64",
                  "stats": {
                    "unique_count": 1,
                    "nan_count": 0,
                    "min": -4679980865,
                    "max": -4679980865,
                    "histogram": [
                      {
                        "bin_start": -4679980865.5,
                        "bin_end": -4679980865.4,
                        "count": 0
                      },
                      {
                        "bin_start": -4679980865.4,
                        "bin_end": -4679980865.3,
                        "count": 0
                      },
                      {
                        "bin_start": -4679980865.3,
                        "bin_end": -4679980865.2,
                        "count": 0
                      },
                      {
                        "bin_start": -4679980865.2,
                        "bin_end": -4679980865.1,
                        "count": 0
                      },
                      {
                        "bin_start": -4679980865.1,
                        "bin_end": -4679980865,
                        "count": 0
                      },
                      {
                        "bin_start": -4679980865,
                        "bin_end": -4679980864.9,
                        "count": 1
                      },
                      {
                        "bin_start": -4679980864.9,
                        "bin_end": -4679980864.8,
                        "count": 0
                      },
                      {
                        "bin_start": -4679980864.8,
                        "bin_end": -4679980864.7,
                        "count": 0
                      },
                      {
                        "bin_start": -4679980864.7,
                        "bin_end": -4679980864.6,
                        "count": 0
                      },
                      {
                        "bin_start": -4679980864.6,
                        "bin_end": -4679980864.5,
                        "count": 0
                      }
                    ]
                  }
                },
                {
                  "name": "shareholderEquity",
                  "dtype": "int64",
                  "stats": {
                    "unique_count": 1,
                    "nan_count": 0,
                    "min": 5923951546,
                    "max": 5923951546,
                    "histogram": [
                      {
                        "bin_start": 5923951545.5,
                        "bin_end": 5923951545.6,
                        "count": 0
                      },
                      {
                        "bin_start": 5923951545.6,
                        "bin_end": 5923951545.7,
                        "count": 0
                      },
                      {
                        "bin_start": 5923951545.7,
                        "bin_end": 5923951545.8,
                        "count": 0
                      },
                      {
                        "bin_start": 5923951545.8,
                        "bin_end": 5923951545.9,
                        "count": 0
                      },
                      {
                        "bin_start": 5923951545.9,
                        "bin_end": 5923951546,
                        "count": 0
                      },
                      {
                        "bin_start": 5923951546,
                        "bin_end": 5923951546.1,
                        "count": 1
                      },
                      {
                        "bin_start": 5923951546.1,
                        "bin_end": 5923951546.2,
                        "count": 0
                      },
                      {
                        "bin_start": 5923951546.2,
                        "bin_end": 5923951546.3,
                        "count": 0
                      },
                      {
                        "bin_start": 5923951546.3,
                        "bin_end": 5923951546.4,
                        "count": 0
                      },
                      {
                        "bin_start": 5923951546.4,
                        "bin_end": 5923951546.5,
                        "count": 0
                      }
                    ]
                  }
                },
                {
                  "name": "shortTermInvestments",
                  "dtype": "int64",
                  "stats": {
                    "unique_count": 1,
                    "nan_count": 0,
                    "min": 381518187,
                    "max": 381518187,
                    "histogram": [
                      {
                        "bin_start": 381518186.5,
                        "bin_end": 381518186.6,
                        "count": 0
                      },
                      {
                        "bin_start": 381518186.6,
                        "bin_end": 381518186.7,
                        "count": 0
                      },
                      {
                        "bin_start": 381518186.7,
                        "bin_end": 381518186.8,
                        "count": 0
                      },
                      {
                        "bin_start": 381518186.8,
                        "bin_end": 381518186.9,
                        "count": 0
                      },
                      {
                        "bin_start": 381518186.9,
                        "bin_end": 381518187,
                        "count": 0
                      },
                      {
                        "bin_start": 381518187,
                        "bin_end": 381518187.1,
                        "count": 1
                      },
                      {
                        "bin_start": 381518187.1,
                        "bin_end": 381518187.2,
                        "count": 0
                      },
                      {
                        "bin_start": 381518187.2,
                        "bin_end": 381518187.3,
                        "count": 0
                      },
                      {
                        "bin_start": 381518187.3,
                        "bin_end": 381518187.4,
                        "count": 0
                      },
                      {
                        "bin_start": 381518187.4,
                        "bin_end": 381518187.5,
                        "count": 0
                      }
                    ]
                  }
                },
                {
                  "name": "symbol",
                  "dtype": "object",
                  "stats": {
                    "unique_count": 1,
                    "nan_count": 0,
                    "categories": [
                      {
                        "name": "AMD",
                        "count": 1
                      }
                    ]
                  }
                },
                {
                  "name": "totalAssets",
                  "dtype": "int64",
                  "stats": {
                    "unique_count": 1,
                    "nan_count": 0,
                    "min": 9001304275,
                    "max": 9001304275,
                    "histogram": [
                      {
                        "bin_start": 9001304274.5,
                        "bin_end": 9001304274.6,
                        "count": 0
                      },
                      {
                        "bin_start": 9001304274.6,
                        "bin_end": 9001304274.7,
                        "count": 0
                      },
                      {
                        "bin_start": 9001304274.7,
                        "bin_end": 9001304274.8,
                        "count": 0
                      },
                      {
                        "bin_start": 9001304274.8,
                        "bin_end": 9001304274.9,
                        "count": 0
                      },
                      {
                        "bin_start": 9001304274.9,
                        "bin_end": 9001304275,
                        "count": 0
                      },
                      {
                        "bin_start": 9001304275,
                        "bin_end": 9001304275.1,
                        "count": 1
                      },
                      {
                        "bin_start": 9001304275.1,
                        "bin_end": 9001304275.2,
                        "count": 0
                      },
                      {
                        "bin_start": 9001304275.2,
                        "bin_end": 9001304275.3,
                        "count": 0
                      },
                      {
                        "bin_start": 9001304275.3,
                        "bin_end": 9001304275.4,
                        "count": 0
                      },
                      {
                        "bin_start": 9001304275.4,
                        "bin_end": 9001304275.5,
                        "count": 0
                      }
                    ]
                  }
                },
                {
                  "name": "totalCurrentLiabilities",
                  "dtype": "int64",
                  "stats": {
                    "unique_count": 1,
                    "nan_count": 0,
                    "min": 2425607247,
                    "max": 2425607247,
                    "histogram": [
                      {
                        "bin_start": 2425607246.5,
                        "bin_end": 2425607246.6,
                        "count": 0
                      },
                      {
                        "bin_start": 2425607246.6,
                        "bin_end": 2425607246.7,
                        "count": 0
                      },
                      {
                        "bin_start": 2425607246.7,
                        "bin_end": 2425607246.8,
                        "count": 0
                      },
                      {
                        "bin_start": 2425607246.8,
                        "bin_end": 2425607246.9,
                        "count": 0
                      },
                      {
                        "bin_start": 2425607246.9,
                        "bin_end": 2425607247,
                        "count": 0
                      },
                      {
                        "bin_start": 2425607247,
                        "bin_end": 2425607247.1,
                        "count": 1
                      },
                      {
                        "bin_start": 2425607247.1,
                        "bin_end": 2425607247.2,
                        "count": 0
                      },
                      {
                        "bin_start": 2425607247.2,
                        "bin_end": 2425607247.3,
                        "count": 0
                      },
                      {
                        "bin_start": 2425607247.3,
                        "bin_end": 2425607247.4,
                        "count": 0
                      },
                      {
                        "bin_start": 2425607247.4,
                        "bin_end": 2425607247.5,
                        "count": 0
                      }
                    ]
                  }
                },
                {
                  "name": "totalLiabilities",
                  "dtype": "int64",
                  "stats": {
                    "unique_count": 1,
                    "nan_count": 0,
                    "min": 3159019727,
                    "max": 3159019727,
                    "histogram": [
                      {
                        "bin_start": 3159019726.5,
                        "bin_end": 3159019726.6,
                        "count": 0
                      },
                      {
                        "bin_start": 3159019726.6,
                        "bin_end": 3159019726.7,
                        "count": 0
                      },
                      {
                        "bin_start": 3159019726.7,
                        "bin_end": 3159019726.8,
                        "count": 0
                      },
                      {
                        "bin_start": 3159019726.8,
                        "bin_end": 3159019726.9,
                        "count": 0
                      },
                      {
                        "bin_start": 3159019726.9,
                        "bin_end": 3159019727,
                        "count": 0
                      },
                      {
                        "bin_start": 3159019727,
                        "bin_end": 3159019727.1,
                        "count": 1
                      },
                      {
                        "bin_start": 3159019727.1,
                        "bin_end": 3159019727.2,
                        "count": 0
                      },
                      {
                        "bin_start": 3159019727.2,
                        "bin_end": 3159019727.3,
                        "count": 0
                      },
                      {
                        "bin_start": 3159019727.3,
                        "bin_end": 3159019727.4,
                        "count": 0
                      },
                      {
                        "bin_start": 3159019727.4,
                        "bin_end": 3159019727.5,
                        "count": 0
                      }
                    ]
                  }
                },
                {
                  "name": "treasuryStock",
                  "dtype": "int64",
                  "stats": {
                    "unique_count": 1,
                    "nan_count": 0,
                    "min": -134041137,
                    "max": -134041137,
                    "histogram": [
                      {
                        "bin_start": -134041137.5,
                        "bin_end": -134041137.4,
                        "count": 0
                      },
                      {
                        "bin_start": -134041137.4,
                        "bin_end": -134041137.3,
                        "count": 0
                      },
                      {
                        "bin_start": -134041137.3,
                        "bin_end": -134041137.2,
                        "count": 0
                      },
                      {
                        "bin_start": -134041137.2,
                        "bin_end": -134041137.1,
                        "count": 0
                      },
                      {
                        "bin_start": -134041137.1,
                        "bin_end": -134041137,
                        "count": 0
                      },
                      {
                        "bin_start": -134041137,
                        "bin_end": -134041136.9,
                        "count": 1
                      },
                      {
                        "bin_start": -134041136.9,
                        "bin_end": -134041136.8,
                        "count": 0
                      },
                      {
                        "bin_start": -134041136.8,
                        "bin_end": -134041136.7,
                        "count": 0
                      },
                      {
                        "bin_start": -134041136.7,
                        "bin_end": -134041136.6,
                        "count": 0
                      },
                      {
                        "bin_start": -134041136.6,
                        "bin_end": -134041136.5,
                        "count": 0
                      }
                    ]
                  }
                },
                {
                  "name": "id",
                  "dtype": "object",
                  "stats": {
                    "unique_count": 1,
                    "nan_count": 0,
                    "categories": [
                      {
                        "name": "EHBCEASTANLE_",
                        "count": 1
                      }
                    ]
                  }
                },
                {
                  "name": "key",
                  "dtype": "object",
                  "stats": {
                    "unique_count": 1,
                    "nan_count": 0,
                    "categories": [
                      {
                        "name": "DMA",
                        "count": 1
                      }
                    ]
                  }
                },
                {
                  "name": "subkey",
                  "dtype": "object",
                  "stats": {
                    "unique_count": 1,
                    "nan_count": 0,
                    "categories": [
                      {
                        "name": "qyrletaru",
                        "count": 1
                      }
                    ]
                  }
                },
                {
                  "name": "updated",
                  "dtype": "datetime64[ns]",
                  "stats": {
                    "unique_count": 1,
                    "nan_count": 0,
                    "min": "2021-03-24T03:55:12.295000",
                    "max": "2021-03-24T03:55:12.295000",
                    "histogram": null
                  }
                },
                {
                  "name": "_deepnote_index_column",
                  "dtype": "datetime64[ns]"
                }
              ],
              "rows_top": [
                {
                  "accountsPayable": 563362049,
                  "capitalSurplus": "nan",
                  "commonStock": 1253483295,
                  "currency": "USD",
                  "currentAssets": 6422785920,
                  "currentCash": 2331696565,
                  "currentLongTermDebt": 0,
                  "filingType": "K0-1",
                  "fiscalDate": "2020-12-14",
                  "fiscalQuarter": 4,
                  "fiscalYear": 2087,
                  "goodwill": 290659327,
                  "intangibleAssets": 239498416,
                  "inventory": 1463358509,
                  "longTermDebt": 336788773,
                  "longTermInvestments": 2938361334,
                  "minorityInterest": 0,
                  "netTangibleAssets": 5402258170,
                  "otherAssets": 144579114,
                  "otherCurrentAssets": 383816340,
                  "otherCurrentLiabilities": 1957142685,
                  "otherLiabilities": 185524543,
                  "propertyPlantEquipment": 662117038,
                  "receivables": 2113861597,
                  "retainedEarnings": -4679980865,
                  "shareholderEquity": 5923951546,
                  "shortTermInvestments": 381518187,
                  "symbol": "AMD",
                  "totalAssets": 9001304275,
                  "totalCurrentLiabilities": 2425607247,
                  "totalLiabilities": 3159019727,
                  "treasuryStock": -134041137,
                  "id": "EHBCEASTANLE_",
                  "key": "DMA",
                  "subkey": "qyrletaru",
                  "updated": "2021-03-24T03:55:12.295000",
                  "_deepnote_index_column": "2021-01-22T00:00:00.000000"
                }
              ],
              "rows_bottom": null
            },
            "text/plain": "            accountsPayable capitalSurplus  commonStock currency  \\\nreportDate                                                         \n2021-01-22        563362049           None   1253483295      USD   \n\n            currentAssets  currentCash  currentLongTermDebt filingType  \\\nreportDate                                                               \n2021-01-22     6422785920   2331696565                    0       K0-1   \n\n            fiscalDate  fiscalQuarter  ...  shortTermInvestments  symbol  \\\nreportDate                             ...                                 \n2021-01-22  2020-12-14              4  ...             381518187     AMD   \n\n            totalAssets  totalCurrentLiabilities  totalLiabilities  \\\nreportDate                                                           \n2021-01-22   9001304275               2425607247        3159019727   \n\n            treasuryStock             id  key     subkey  \\\nreportDate                                                 \n2021-01-22     -134041137  EHBCEASTANLE_  DMA  qyrletaru   \n\n                           updated  \nreportDate                          \n2021-01-22 2021-03-24 03:55:12.295  \n\n[1 rows x 36 columns]",
            "text/html": "<div>\n<style scoped>\n    .dataframe tbody tr th:only-of-type {\n        vertical-align: middle;\n    }\n\n    .dataframe tbody tr th {\n        vertical-align: top;\n    }\n\n    .dataframe thead th {\n        text-align: right;\n    }\n</style>\n<table border=\"1\" class=\"dataframe\">\n  <thead>\n    <tr style=\"text-align: right;\">\n      <th></th>\n      <th>accountsPayable</th>\n      <th>capitalSurplus</th>\n      <th>commonStock</th>\n      <th>currency</th>\n      <th>currentAssets</th>\n      <th>currentCash</th>\n      <th>currentLongTermDebt</th>\n      <th>filingType</th>\n      <th>fiscalDate</th>\n      <th>fiscalQuarter</th>\n      <th>...</th>\n      <th>shortTermInvestments</th>\n      <th>symbol</th>\n      <th>totalAssets</th>\n      <th>totalCurrentLiabilities</th>\n      <th>totalLiabilities</th>\n      <th>treasuryStock</th>\n      <th>id</th>\n      <th>key</th>\n      <th>subkey</th>\n      <th>updated</th>\n    </tr>\n    <tr>\n      <th>reportDate</th>\n      <th></th>\n      <th></th>\n      <th></th>\n      <th></th>\n      <th></th>\n      <th></th>\n      <th></th>\n      <th></th>\n      <th></th>\n      <th></th>\n      <th></th>\n      <th></th>\n      <th></th>\n      <th></th>\n      <th></th>\n      <th></th>\n      <th></th>\n      <th></th>\n      <th></th>\n      <th></th>\n      <th></th>\n    </tr>\n  </thead>\n  <tbody>\n    <tr>\n      <th>2021-01-22</th>\n      <td>563362049</td>\n      <td>None</td>\n      <td>1253483295</td>\n      <td>USD</td>\n      <td>6422785920</td>\n      <td>2331696565</td>\n      <td>0</td>\n      <td>K0-1</td>\n      <td>2020-12-14</td>\n      <td>4</td>\n      <td>...</td>\n      <td>381518187</td>\n      <td>AMD</td>\n      <td>9001304275</td>\n      <td>2425607247</td>\n      <td>3159019727</td>\n      <td>-134041137</td>\n      <td>EHBCEASTANLE_</td>\n      <td>DMA</td>\n      <td>qyrletaru</td>\n      <td>2021-03-24 03:55:12.295</td>\n    </tr>\n  </tbody>\n</table>\n<p>1 rows × 36 columns</p>\n</div>"
          },
          "metadata": {}
        }
      ]
    },
    {
      "cell_type": "markdown",
      "source": "# Step-by-Step Order Integration",
      "metadata": {
        "tags": [],
        "cell_id": "00005-764b6ffe-98ca-4574-876c-55104b8e24a6",
        "deepnote_cell_type": "markdown"
      }
    },
    {
      "cell_type": "code",
      "metadata": {
        "tags": [],
        "cell_id": "00005-f727b3a8-9a6b-47bc-9c6d-b745a30d60a1",
        "deepnote_to_be_reexecuted": false,
        "source_hash": "fb883475",
        "execution_millis": 142,
        "execution_start": 1616106222138,
        "deepnote_cell_type": "code"
      },
      "source": "import alpaca_trade_api as tradeapi\nimport os\n\nos.environ[\"APCA_API_BASE_URL\"] = \"https://paper-api.alpaca.markets\"\n\napi = tradeapi.REST('PK2NCI7MUIB3Y01QREBD', 'hDw1s6yoSd5lkDnbP3rmQybXKuYalvBn8Jrc5jjJ')\naccount = api.get_account()\naccount.status",
      "execution_count": 22,
      "outputs": [
        {
          "output_type": "execute_result",
          "execution_count": 22,
          "data": {
            "text/plain": "'ACTIVE'"
          },
          "metadata": {}
        }
      ]
    },
    {
      "cell_type": "code",
      "metadata": {
        "tags": [],
        "cell_id": "00007-c1e48f2c-4259-4704-bd0d-f884ac4213a1",
        "deepnote_to_be_reexecuted": false,
        "source_hash": "5d9361c0",
        "execution_start": 1616106268480,
        "execution_millis": 82,
        "deepnote_cell_type": "code"
      },
      "source": "# Submit order\n#api.submit_order(\"AMD\", 25, \"buy\", \"limit\", \"gtc\", limit_price=27.50)",
      "execution_count": 23,
      "outputs": [
        {
          "output_type": "error",
          "ename": "NameError",
          "evalue": "name 'Order' is not defined",
          "traceback": [
            "\u001b[0;31m---------------------------------------------------------------------------\u001b[0m",
            "\u001b[0;31mNameError\u001b[0m                                 Traceback (most recent call last)",
            "\u001b[0;32m<ipython-input-23-41d26d262a98>\u001b[0m in \u001b[0;36m<module>\u001b[0;34m\u001b[0m\n\u001b[1;32m      1\u001b[0m \u001b[0mapi\u001b[0m\u001b[0;34m.\u001b[0m\u001b[0msubmit_order\u001b[0m\u001b[0;34m(\u001b[0m\u001b[0;34m\"AMD\"\u001b[0m\u001b[0;34m,\u001b[0m \u001b[0;36m25\u001b[0m\u001b[0;34m,\u001b[0m \u001b[0;34m\"buy\"\u001b[0m\u001b[0;34m,\u001b[0m \u001b[0;34m\"limit\"\u001b[0m\u001b[0;34m,\u001b[0m \u001b[0;34m\"gtc\"\u001b[0m\u001b[0;34m,\u001b[0m \u001b[0mlimit_price\u001b[0m\u001b[0;34m=\u001b[0m\u001b[0;36m27.50\u001b[0m\u001b[0;34m)\u001b[0m\u001b[0;34m\u001b[0m\u001b[0;34m\u001b[0m\u001b[0m\n\u001b[1;32m      2\u001b[0m \u001b[0;34m\u001b[0m\u001b[0m\n\u001b[0;32m----> 3\u001b[0;31m Order({   'asset_class': 'us_equity',\n\u001b[0m\u001b[1;32m      4\u001b[0m     \u001b[0;34m'asset_id'\u001b[0m\u001b[0;34m:\u001b[0m \u001b[0;34m'Hidden'\u001b[0m\u001b[0;34m,\u001b[0m\u001b[0;34m\u001b[0m\u001b[0;34m\u001b[0m\u001b[0m\n\u001b[1;32m      5\u001b[0m     \u001b[0;34m'canceled_at'\u001b[0m\u001b[0;34m:\u001b[0m \u001b[0;32mNone\u001b[0m\u001b[0;34m,\u001b[0m\u001b[0;34m\u001b[0m\u001b[0;34m\u001b[0m\u001b[0m\n",
            "\u001b[0;31mNameError\u001b[0m: name 'Order' is not defined"
          ]
        }
      ]
    },
    {
      "cell_type": "code",
      "metadata": {
        "tags": [],
        "cell_id": "00008-0fb4d7f0-f420-4c61-a5a1-78f2ba8e020f",
        "deepnote_to_be_reexecuted": false,
        "source_hash": "5b8034d9",
        "execution_start": 1616106407458,
        "execution_millis": 258,
        "deepnote_cell_type": "code"
      },
      "source": "import pyEX \nimport alpaca_trade_api as tradeapi\nimport os\n\n\nos.environ[\"APCA_API_BASE_URL\"] = \"https://paper-api.alpaca.markets\"\np = pyEX.Client('sk_44dd8769727a47738c85713c3ca59904')\napi = tradeapi.REST('pk_60800c0068a6441c92c63ae3466f8063', 'sk_44dd8769727a47738c85713c3ca59904')\n\ndf = p.quoteDF(\"AMD\")\nprice = df['iexRealtimePrice']\nprint(price)\n",
      "execution_count": 24,
      "outputs": [
        {
          "name": "stdout",
          "text": "symbol\nAMD    78.13\nName: iexRealtimePrice, dtype: float64\n",
          "output_type": "stream"
        }
      ]
    },
    {
      "cell_type": "code",
      "metadata": {
        "tags": [],
        "cell_id": "00009-ff4e762a-9769-43ba-948b-3e2673929ef0",
        "deepnote_cell_type": "code"
      },
      "source": "if price < 28.01 and api.get_position(\"AMD\") < 10: \n    api.submit_order(\"AMD\", 25, \"buy\", \"market\", \"gtc\")",
      "execution_count": null,
      "outputs": []
    },
    {
      "cell_type": "markdown",
      "source": "<a style='text-decoration:none;line-height:16px;display:flex;color:#5B5B62;padding:10px;justify-content:end;' href='https://deepnote.com?utm_source=created-in-deepnote-cell&projectId=5bc7327e-2aaf-4c31-a186-51bd3eb8e75c' target=\"_blank\">\n<img style='display:inline;max-height:16px;margin:0px;margin-right:7.5px;' src='data:image/svg+xml;base64,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' > </img>\nCreated in <span style='font-weight:600;margin-left:4px;'>Deepnote</span></a>",
      "metadata": {
        "tags": [],
        "created_in_deepnote_cell": true,
        "deepnote_cell_type": "markdown"
      }
    }
  ],
  "nbformat": 4,
  "nbformat_minor": 2,
  "metadata": {
    "orig_nbformat": 2,
    "deepnote_notebook_id": "ade5e479-cf0c-4c80-b654-b6df31f629e4",
    "deepnote": {},
    "deepnote_execution_queue": []
  }
}